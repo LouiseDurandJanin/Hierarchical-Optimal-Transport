{
  "nbformat": 4,
  "nbformat_minor": 0,
  "metadata": {
    "colab": {
      "provenance": [],
      "gpuType": "T4"
    },
    "kernelspec": {
      "name": "python3",
      "display_name": "Python 3"
    },
    "language_info": {
      "name": "python"
    },
    "accelerator": "GPU"
  },
  "cells": [
    {
      "cell_type": "code",
      "source": [
        "! pip install POT"
      ],
      "metadata": {
        "colab": {
          "base_uri": "https://localhost:8080/"
        },
        "id": "kZuJlJBxWH0V",
        "outputId": "7d367c91-5be2-4a91-93ee-56df2a204672"
      },
      "execution_count": null,
      "outputs": [
        {
          "output_type": "stream",
          "name": "stdout",
          "text": [
            "Requirement already satisfied: POT in /usr/local/lib/python3.10/dist-packages (0.9.3)\n",
            "Requirement already satisfied: numpy>=1.16 in /usr/local/lib/python3.10/dist-packages (from POT) (1.23.5)\n",
            "Requirement already satisfied: scipy>=1.6 in /usr/local/lib/python3.10/dist-packages (from POT) (1.11.4)\n"
          ]
        }
      ]
    },
    {
      "cell_type": "code",
      "source": [
        "! pip install lda"
      ],
      "metadata": {
        "colab": {
          "base_uri": "https://localhost:8080/"
        },
        "id": "Bz-yCW_NWKXr",
        "outputId": "a2a0e93b-5bba-4ddf-e3a6-e74f3d5f2367"
      },
      "execution_count": null,
      "outputs": [
        {
          "output_type": "stream",
          "name": "stdout",
          "text": [
            "Requirement already satisfied: lda in /usr/local/lib/python3.10/dist-packages (3.0.0)\n",
            "Requirement already satisfied: numpy<2.0,>=1.13.0 in /usr/local/lib/python3.10/dist-packages (from lda) (1.23.5)\n"
          ]
        }
      ]
    },
    {
      "cell_type": "code",
      "source": [
        "import numpy as np\n",
        "import lda\n",
        "import nltk\n",
        "from sklearn.metrics.pairwise import euclidean_distances\n",
        "from scipy.io import loadmat\n",
        "from nltk.corpus import stopwords\n",
        "from nltk.stem.snowball import SnowballStemmer\n",
        "from scipy.special import kl_div\n",
        "from sklearn.manifold import TSNE\n",
        "import matplotlib.pyplot as plt\n",
        "import json\n",
        "import ot\n",
        "from sklearn.preprocessing import normalize\n",
        "from sklearn.model_selection import train_test_split\n",
        "import time"
      ],
      "metadata": {
        "id": "Qrvt48fppsdl"
      },
      "execution_count": null,
      "outputs": []
    },
    {
      "cell_type": "markdown",
      "source": [
        "# HOTT.py"
      ],
      "metadata": {
        "id": "iJYIKdSLVe1p"
      }
    },
    {
      "cell_type": "code",
      "source": [
        "import ot\n",
        "import numpy as np\n",
        "\n",
        "def sparse_ot(weights1, weights2, M):\n",
        "    \"\"\" Compute transport for (posssibly) un-normalized sparse distributions\"\"\"\n",
        "\n",
        "    weights1 = weights1/weights1.sum()\n",
        "    weights2 = weights2/weights2.sum()\n",
        "\n",
        "    active1 = np.where(weights1)[0]\n",
        "    active2 = np.where(weights2)[0]\n",
        "\n",
        "    weights_1_active = weights1[active1]\n",
        "    weights_2_active = weights2[active2]\n",
        "    M_reduced = np.ascontiguousarray(M[active1][:,active2])\n",
        "\n",
        "    return ot.emd2(weights_1_active,weights_2_active,M_reduced)\n",
        "\n",
        "def topic_ot(weights1, weights2, M):\n",
        "\n",
        "    return ot.emd2(weights1,weights2,M)\n",
        "def hott(p, q, C, threshold=None):\n",
        "    \"\"\" Hierarchical optimal topic transport.\"\"\"\n",
        "\n",
        "    # Avoid changing p and q outside of this function\n",
        "    p, q = np.copy(p), np.copy(q)\n",
        "\n",
        "    k = len(p)\n",
        "    if threshold is None:\n",
        "        threshold = 1. / (k + 1)\n",
        "\n",
        "    p[p<threshold] = 0\n",
        "    q[q<threshold] = 0\n",
        "\n",
        "    return sparse_ot(p, q, C)\n",
        "\n",
        "\n",
        "def hoftt(p, q, C):\n",
        "    \"\"\" Hierarchical optimal full topic transport.\"\"\"\n",
        "    return ot.emd2(p, q, C)\n"
      ],
      "metadata": {
        "id": "2CuL5UQ-Valq"
      },
      "execution_count": null,
      "outputs": []
    },
    {
      "cell_type": "markdown",
      "source": [
        "# data.py"
      ],
      "metadata": {
        "id": "4VkqM_x2VO_Z"
      }
    },
    {
      "cell_type": "code",
      "source": [
        "\n",
        "\n",
        "\n",
        "def load_wmd_data(path):\n",
        "    \"\"\"Load data used in the WMD paper.\n",
        "    \"\"\"\n",
        "    mat_data = loadmat(path, squeeze_me=True, chars_as_strings=True)\n",
        "\n",
        "    try:\n",
        "        y = mat_data['Y'].astype(np.int)\n",
        "    except KeyError:\n",
        "        y = np.concatenate((mat_data['ytr'].astype(np.int),\n",
        "                            mat_data['yte'].astype(np.int)))\n",
        "    try:\n",
        "        embeddings_of_doc_words = mat_data['X']\n",
        "    except KeyError:\n",
        "        embeddings_of_doc_words = np.concatenate((mat_data['xtr'],\n",
        "                                                  mat_data['xte']))\n",
        "    try:\n",
        "        doc_word_counts = mat_data['BOW_X']\n",
        "    except KeyError:\n",
        "        doc_word_counts = np.concatenate((mat_data['BOW_xtr'], mat_data['BOW_xte']))\n",
        "    try:\n",
        "        doc_words = mat_data['words']\n",
        "    except KeyError:\n",
        "        doc_words = np.concatenate((mat_data['words_tr'], mat_data['words_te']))\n",
        "\n",
        "    vocab = []\n",
        "    embed_vocab = {}\n",
        "    for d_w, d_e in zip(doc_words, embeddings_of_doc_words):\n",
        "        if type(d_w) == str:\n",
        "            d_w = [d_w]\n",
        "        words = [w for w in d_w if type(w) == str]\n",
        "        if len(words) == 1:\n",
        "            d_e = d_e.reshape((-1, 1))\n",
        "        for i, w in enumerate(words):\n",
        "            if w not in vocab:\n",
        "                vocab.append(w)\n",
        "                embed_vocab[w] = d_e[:, i]\n",
        "            else:\n",
        "                if not np.allclose(embed_vocab[w], d_e[:, i]):\n",
        "                    print('Problem with embeddings')\n",
        "                    break\n",
        "\n",
        "    bow_data = np.zeros((len(doc_word_counts), len(vocab)),\n",
        "                        dtype=np.int)\n",
        "    for doc_idx, (d_w, d_c) in enumerate(zip(doc_words, doc_word_counts)):\n",
        "        if type(d_w) == str:\n",
        "            d_w = [d_w]\n",
        "        words = [w for w in d_w if type(w) == str]\n",
        "        if len(words) == 1:\n",
        "            d_c = np.array([d_c])\n",
        "        words_idx = np.array([vocab.index(w) for w in words])\n",
        "        bow_data[doc_idx, words_idx] = d_c.astype(np.int)\n",
        "\n",
        "    return vocab, embed_vocab, bow_data, y\n",
        "\n",
        "\n",
        "def reduce_vocab(bow_data, vocab, embed_vocab, embed_aggregate='mean'):\n",
        "    \"\"\"Reduce vocabulary size by stemming and removing stop words.\n",
        "    \"\"\"\n",
        "    nltk.download('stopwords')\n",
        "    vocab = np.array(vocab)\n",
        "    short = np.array([len(w) > 2 for w in vocab])\n",
        "    stop_words = set(stopwords.words('english'))\n",
        "    stop = np.array([w not in stop_words for w in vocab])\n",
        "    reduced_vocab = vocab[np.logical_and(short, stop)]\n",
        "    reduced_bow_data = bow_data[:, np.logical_and(short, stop)]\n",
        "    stemmer = SnowballStemmer(\"english\")\n",
        "    stemmed_dict = {}\n",
        "    stemmed_idx_mapping = {}\n",
        "    stemmed_vocab = []\n",
        "    for i, w in enumerate(reduced_vocab):\n",
        "        stem_w = stemmer.stem(w)\n",
        "        if stem_w in stemmed_vocab:\n",
        "            stemmed_dict[stem_w].append(w)\n",
        "            stemmed_idx_mapping[stemmed_vocab.index(stem_w)].append(i)\n",
        "        else:\n",
        "            stemmed_dict[stem_w] = [w]\n",
        "            stemmed_vocab.append(stem_w)\n",
        "            stemmed_idx_mapping[stemmed_vocab.index(stem_w)] = [i]\n",
        "\n",
        "    stemmed_bow_data = np.zeros((bow_data.shape[0], len(stemmed_vocab)),\n",
        "                                dtype=np.int)\n",
        "    for i in range(len(stemmed_vocab)):\n",
        "        stemmed_bow_data[:, i] = reduced_bow_data[:, stemmed_idx_mapping[i]].sum(axis=1).flatten()\n",
        "\n",
        "    word_counts = stemmed_bow_data.sum(axis=0)\n",
        "    stemmed_reduced_vocab = np.array(stemmed_vocab)[word_counts > 2].tolist()\n",
        "    stemmed_reduced_bow_data = stemmed_bow_data[:, word_counts > 2]\n",
        "\n",
        "    stemmed_reduced_embed_vocab = {}\n",
        "    for w in stemmed_reduced_vocab:\n",
        "        old_w_embed = [embed_vocab[w_old] for w_old in stemmed_dict[w]]\n",
        "        if embed_aggregate == 'mean':\n",
        "            new_w_embed = np.mean(old_w_embed, axis=0)\n",
        "        elif embed_aggregate == 'first':\n",
        "            new_w_embed = old_w_embed[0]\n",
        "        else:\n",
        "            print('Unknown embedding aggregation')\n",
        "            break\n",
        "        stemmed_reduced_embed_vocab[w] = new_w_embed\n",
        "\n",
        "    return (stemmed_reduced_vocab,\n",
        "            stemmed_reduced_embed_vocab,\n",
        "            stemmed_reduced_bow_data)\n",
        "\n",
        "\n",
        "def get_embedded_data(bow_data, embed_vocab, vocab):\n",
        "    \"\"\"Map bag-of-words data to embedded representation.\"\"\"\n",
        "    M, V = bow_data.shape\n",
        "    embed_data = [[] for _ in range(M)]\n",
        "    for i in range(V):\n",
        "        for d in range(M):\n",
        "            if bow_data[d, i] > 0:\n",
        "                for _ in range(bow_data[d, i]):\n",
        "                    embed_data[d].append(embed_vocab[vocab[i]])\n",
        "    return [np.array(embed_doc) for embed_doc in embed_data]\n",
        "\n",
        "\n",
        "def change_embeddings(vocab, bow_data, embed_path):\n",
        "    \"\"\"Change embedding data if vocabulary has been reduced.\"\"\"\n",
        "    all_embed_vocab = {}\n",
        "    with open(embed_path, 'r') as file:\n",
        "        for line in file.readlines():\n",
        "            word = line.split(' ')[0]\n",
        "            embedding = [float(x) for x in line.split(' ')[1:]]\n",
        "            all_embed_vocab[word] = embedding\n",
        "\n",
        "    data_embed_vocab = {}\n",
        "    new_vocab_idx = []\n",
        "    new_vocab = []\n",
        "    for i, w in enumerate(vocab):\n",
        "        if w in all_embed_vocab:\n",
        "            data_embed_vocab[w] = all_embed_vocab[w]\n",
        "            new_vocab_idx.append(i)\n",
        "            new_vocab.append(w)\n",
        "    bow_data = bow_data[:, new_vocab_idx]\n",
        "    return new_vocab, data_embed_vocab, bow_data\n",
        "\n",
        "\n",
        "def fit_topics(data, embeddings, vocab, K):\n",
        "    \"\"\"Fit a topic model to bag-of-words data.\"\"\"\n",
        "    model = lda.LDA(n_topics=K, n_iter=1500, random_state=1)\n",
        "    model.fit(data)\n",
        "    topics = model.topic_word_\n",
        "    lda_centers = np.matmul(topics, embeddings)\n",
        "    print('LDA Gibbs topics')\n",
        "    n_top_words = 20\n",
        "    for i, topic_dist in enumerate(topics):\n",
        "        topic_words = np.array(vocab)[np.argsort(topic_dist)][:-(n_top_words + 1):-1]\n",
        "        topic_name = topic_words[0]\n",
        "        print(f'{topic_name}: {\", \".join(topic_words)}')\n",
        "    print('\\n')\n",
        "    topic_proportions = model.doc_topic_\n",
        "\n",
        "    return topics, lda_centers, topic_proportions\n",
        "\n",
        "def loader(data_path,\n",
        "           embeddings_path,\n",
        "           p=1,\n",
        "           K_lda=30,\n",
        "           glove_embeddings=True,\n",
        "           stemming=True,\n",
        "           n_words_keep = None):\n",
        "    \"\"\" Load dataset and embeddings from data path.\"\"\"\n",
        "    # Load dataset from data_path\n",
        "    vocab, embed_vocab, bow_data, y = load_wmd_data(data_path)\n",
        "    y = y - 1\n",
        "\n",
        "    # Use GLOVE word embeddings\n",
        "    if glove_embeddings:\n",
        "        vocab, embed_vocab, bow_data = change_embeddings(\n",
        "            vocab, bow_data, embeddings_path)\n",
        "    # Reduce vocabulary by removing short words, stop words, and stemming\n",
        "    if stemming:\n",
        "        vocab, embed_vocab, bow_data = reduce_vocab(\n",
        "            bow_data, vocab, embed_vocab, embed_aggregate='mean')\n",
        "\n",
        "    # Matrix of word embeddings\n",
        "    embeddings = np.array([embed_vocab[w] for w in vocab])\n",
        "\n",
        "    topics, lda_centers, topic_proportions = fit_topics(\n",
        "        bow_data, embeddings, vocab, K_lda)\n",
        "\n",
        "    cost_embeddings = euclidean_distances(embeddings, embeddings) ** p\n",
        "    cost_topics = np.zeros((topics.shape[0], topics.shape[0]))\n",
        "\n",
        "    ## Reduce topics to top-20 words\n",
        "    if n_words_keep is not None:\n",
        "        for k in range(K_lda):\n",
        "            to_0_idx = np.argsort(-topics[k])[n_words_keep:]\n",
        "            topics[k][to_0_idx] = 0\n",
        "\n",
        "\n",
        "    for i in range(cost_topics.shape[0]):\n",
        "        for j in range(i + 1, cost_topics.shape[1]):\n",
        "            cost_topics[i, j] = sparse_ot(topics[i], topics[j], cost_embeddings)\n",
        "    cost_topics = cost_topics + cost_topics.T\n",
        "\n",
        "    out = {'X': bow_data, 'y': y,\n",
        "           'embeddings': embeddings,\n",
        "           'topics': topics, 'proportions': topic_proportions,\n",
        "           'cost_E': cost_embeddings, 'cost_T': cost_topics}\n",
        "\n",
        "    return out"
      ],
      "metadata": {
        "id": "swVh-h5uVJNA"
      },
      "execution_count": null,
      "outputs": []
    },
    {
      "cell_type": "markdown",
      "source": [
        "# knn_classifier.py"
      ],
      "metadata": {
        "id": "sgK0RfbfV5kH"
      }
    },
    {
      "cell_type": "code",
      "source": [
        "import numpy as np\n",
        "\n",
        "\n",
        "def predict(neighbor_classes, C):\n",
        "    # Make sure all classes are considered\n",
        "    labels = np.concatenate((neighbor_classes, list(range(C))))\n",
        "    # Find class frequency among neighbors\n",
        "    weights = np.unique(labels, return_counts=True)[1]\n",
        "    # Find most popular class\n",
        "    prediction = np.argmax(weights)\n",
        "\n",
        "    # If most popular class is ambiguous try with fewer neighbors; else return\n",
        "    if sum(weights[prediction] == weights) > 1:\n",
        "        return predict(neighbor_classes[:-2], C)\n",
        "\n",
        "    else:\n",
        "        return prediction\n",
        "\n",
        "\n",
        "def knn(X_train, X_test, y_train, y_test, method, C, n_neighbors=3):\n",
        "    # Number of classes\n",
        "    n_classes = len(np.unique(y_train))\n",
        "\n",
        "    prediction = []\n",
        "    for doc in X_test:\n",
        "        doc_to_train = [method(doc, x, C) for x in X_train]\n",
        "        # Find indices of n_neighbors closest documents\n",
        "        rank = np.argsort(doc_to_train)[:n_neighbors]\n",
        "\n",
        "        # Make prediction based on most popular class among neighbors\n",
        "        prediction.append(predict(y_train[rank], n_classes))\n",
        "\n",
        "    # Print and return test error\n",
        "    test_error = 1 - (prediction == y_test).mean()\n",
        "    return test_error, prediction\n"
      ],
      "metadata": {
        "id": "LZjQsksvV1Kr"
      },
      "execution_count": null,
      "outputs": []
    },
    {
      "cell_type": "markdown",
      "source": [
        "# main.py"
      ],
      "metadata": {
        "id": "7735Az8cWB6R"
      }
    },
    {
      "cell_type": "code",
      "execution_count": null,
      "metadata": {
        "colab": {
          "base_uri": "https://localhost:8080/",
          "height": 456
        },
        "id": "mQNRSSeJUEn3",
        "outputId": "26881232-8e2a-460d-c67d-a846324e4759"
      },
      "outputs": [
        {
          "output_type": "stream",
          "name": "stderr",
          "text": [
            "<ipython-input-5-d16ca4986818>:7: DeprecationWarning: `np.int` is a deprecated alias for the builtin `int`. To silence this warning, use `int` by itself. Doing this will not modify any behavior and is safe. When replacing `np.int`, you may wish to use e.g. `np.int64` or `np.int32` to specify the precision. If you wish to review your current use, check the release note link for additional information.\n",
            "Deprecated in NumPy 1.20; for more details and guidance: https://numpy.org/devdocs/release/1.20.0-notes.html#deprecations\n",
            "  y = mat_data['Y'].astype(np.int)\n"
          ]
        },
        {
          "output_type": "error",
          "ename": "KeyboardInterrupt",
          "evalue": "",
          "traceback": [
            "\u001b[0;31m---------------------------------------------------------------------------\u001b[0m",
            "\u001b[0;31mKeyboardInterrupt\u001b[0m                         Traceback (most recent call last)",
            "\u001b[0;32m<ipython-input-8-8599bc19d51f>\u001b[0m in \u001b[0;36m<cell line: 25>\u001b[0;34m()\u001b[0m\n\u001b[1;32m     23\u001b[0m \u001b[0;31m# p=1 for W1 and p=2 for W2\u001b[0m\u001b[0;34m\u001b[0m\u001b[0;34m\u001b[0m\u001b[0m\n\u001b[1;32m     24\u001b[0m \u001b[0mp\u001b[0m \u001b[0;34m=\u001b[0m \u001b[0;36m1\u001b[0m\u001b[0;34m\u001b[0m\u001b[0;34m\u001b[0m\u001b[0m\n\u001b[0;32m---> 25\u001b[0;31m \u001b[0mdata\u001b[0m \u001b[0;34m=\u001b[0m \u001b[0mloader\u001b[0m\u001b[0;34m(\u001b[0m\u001b[0mdata_name\u001b[0m\u001b[0;34m,\u001b[0m \u001b[0membeddings_path\u001b[0m\u001b[0;34m,\u001b[0m \u001b[0mp\u001b[0m\u001b[0;34m=\u001b[0m\u001b[0mp\u001b[0m\u001b[0;34m)\u001b[0m\u001b[0;34m\u001b[0m\u001b[0;34m\u001b[0m\u001b[0m\n\u001b[0m\u001b[1;32m     26\u001b[0m \u001b[0mprint\u001b[0m\u001b[0;34m(\u001b[0m\u001b[0mdata\u001b[0m\u001b[0;34m)\u001b[0m\u001b[0;34m\u001b[0m\u001b[0;34m\u001b[0m\u001b[0m\n\u001b[1;32m     27\u001b[0m \u001b[0mcost_E\u001b[0m \u001b[0;34m=\u001b[0m \u001b[0mdata\u001b[0m\u001b[0;34m[\u001b[0m\u001b[0;34m'cost_E'\u001b[0m\u001b[0;34m]\u001b[0m\u001b[0;34m\u001b[0m\u001b[0;34m\u001b[0m\u001b[0m\n",
            "\u001b[0;32m<ipython-input-5-d16ca4986818>\u001b[0m in \u001b[0;36mloader\u001b[0;34m(data_path, embeddings_path, p, K_lda, glove_embeddings, stemming, n_words_keep)\u001b[0m\n\u001b[1;32m    163\u001b[0m     \u001b[0;34m\"\"\" Load dataset and embeddings from data path.\"\"\"\u001b[0m\u001b[0;34m\u001b[0m\u001b[0;34m\u001b[0m\u001b[0m\n\u001b[1;32m    164\u001b[0m     \u001b[0;31m# Load dataset from data_path\u001b[0m\u001b[0;34m\u001b[0m\u001b[0;34m\u001b[0m\u001b[0m\n\u001b[0;32m--> 165\u001b[0;31m     \u001b[0mvocab\u001b[0m\u001b[0;34m,\u001b[0m \u001b[0membed_vocab\u001b[0m\u001b[0;34m,\u001b[0m \u001b[0mbow_data\u001b[0m\u001b[0;34m,\u001b[0m \u001b[0my\u001b[0m \u001b[0;34m=\u001b[0m \u001b[0mload_wmd_data\u001b[0m\u001b[0;34m(\u001b[0m\u001b[0mdata_path\u001b[0m\u001b[0;34m)\u001b[0m\u001b[0;34m\u001b[0m\u001b[0;34m\u001b[0m\u001b[0m\n\u001b[0m\u001b[1;32m    166\u001b[0m     \u001b[0my\u001b[0m \u001b[0;34m=\u001b[0m \u001b[0my\u001b[0m \u001b[0;34m-\u001b[0m \u001b[0;36m1\u001b[0m\u001b[0;34m\u001b[0m\u001b[0;34m\u001b[0m\u001b[0m\n\u001b[1;32m    167\u001b[0m \u001b[0;34m\u001b[0m\u001b[0m\n",
            "\u001b[0;32m<ipython-input-5-d16ca4986818>\u001b[0m in \u001b[0;36mload_wmd_data\u001b[0;34m(path)\u001b[0m\n\u001b[1;32m     32\u001b[0m             \u001b[0md_e\u001b[0m \u001b[0;34m=\u001b[0m \u001b[0md_e\u001b[0m\u001b[0;34m.\u001b[0m\u001b[0mreshape\u001b[0m\u001b[0;34m(\u001b[0m\u001b[0;34m(\u001b[0m\u001b[0;34m-\u001b[0m\u001b[0;36m1\u001b[0m\u001b[0;34m,\u001b[0m \u001b[0;36m1\u001b[0m\u001b[0;34m)\u001b[0m\u001b[0;34m)\u001b[0m\u001b[0;34m\u001b[0m\u001b[0;34m\u001b[0m\u001b[0m\n\u001b[1;32m     33\u001b[0m         \u001b[0;32mfor\u001b[0m \u001b[0mi\u001b[0m\u001b[0;34m,\u001b[0m \u001b[0mw\u001b[0m \u001b[0;32min\u001b[0m \u001b[0menumerate\u001b[0m\u001b[0;34m(\u001b[0m\u001b[0mwords\u001b[0m\u001b[0;34m)\u001b[0m\u001b[0;34m:\u001b[0m\u001b[0;34m\u001b[0m\u001b[0;34m\u001b[0m\u001b[0m\n\u001b[0;32m---> 34\u001b[0;31m             \u001b[0;32mif\u001b[0m \u001b[0mw\u001b[0m \u001b[0;32mnot\u001b[0m \u001b[0;32min\u001b[0m \u001b[0mvocab\u001b[0m\u001b[0;34m:\u001b[0m\u001b[0;34m\u001b[0m\u001b[0;34m\u001b[0m\u001b[0m\n\u001b[0m\u001b[1;32m     35\u001b[0m                 \u001b[0mvocab\u001b[0m\u001b[0;34m.\u001b[0m\u001b[0mappend\u001b[0m\u001b[0;34m(\u001b[0m\u001b[0mw\u001b[0m\u001b[0;34m)\u001b[0m\u001b[0;34m\u001b[0m\u001b[0;34m\u001b[0m\u001b[0m\n\u001b[1;32m     36\u001b[0m                 \u001b[0membed_vocab\u001b[0m\u001b[0;34m[\u001b[0m\u001b[0mw\u001b[0m\u001b[0;34m]\u001b[0m \u001b[0;34m=\u001b[0m \u001b[0md_e\u001b[0m\u001b[0;34m[\u001b[0m\u001b[0;34m:\u001b[0m\u001b[0;34m,\u001b[0m \u001b[0mi\u001b[0m\u001b[0;34m]\u001b[0m\u001b[0;34m\u001b[0m\u001b[0;34m\u001b[0m\u001b[0m\n",
            "\u001b[0;31mKeyboardInterrupt\u001b[0m: "
          ]
        }
      ],
      "source": [
        "from sklearn.preprocessing import normalize\n",
        "from sklearn.model_selection import train_test_split\n",
        "import time\n",
        "#from knn_classifier import knn\n",
        "\n",
        "#import distances\n",
        "#import hott\n",
        "\n",
        "# Download datasets used by Kusner et al from\n",
        "# https://www.dropbox.com/sh/nf532hddgdt68ix/AABGLUiPRyXv6UL2YAcHmAFqa?dl=0\n",
        "# and put them into\n",
        "data_path = ''\n",
        "\n",
        "\n",
        "# Download GloVe 6B tokens, 300d word embeddings from\n",
        "# https://nlp.stanford.edu/projects/glove/\n",
        "# and put them into\n",
        "embeddings_path = '/content/drive/MyDrive/projet_ot/glove.6B.300d.txt'\n",
        "\n",
        "# Pick a dataset (uncomment the line you want)\n",
        "data_name = '/content/drive/MyDrive/projet_ot/bbcsport-emd_tr_te_split.mat'\n",
        "\n",
        "# p=1 for W1 and p=2 for W2\n",
        "p = 1\n",
        "data = loader(data_name, embeddings_path, p=p)\n",
        "print(data)\n",
        "cost_E = data['cost_E']\n",
        "cost_T = data['cost_T']\n",
        "data['topics']"
      ]
    },
    {
      "cell_type": "code",
      "source": [
        "from sklearn.preprocessing import MinMaxScaler\n",
        "import numpy as np\n",
        "\n",
        "# Assuming data['topics'] is a 2D NumPy array\n",
        "data['topics'] = data['topics'] + np.random.randn(data['topics'].shape[0], data['topics'].shape[1])+ np.random.randn(data['topics'].shape[0], data['topics'].shape[1])\n",
        "\n",
        "# Create a MinMaxScaler\n",
        "#scaler = MinMaxScaler()\n",
        "\n",
        "# Fit and transform the 'topics' data\n",
        "#data['topics'] = scaler.fit_transform(data['topics'])\n"
      ],
      "metadata": {
        "id": "PR4ErsPavdWD"
      },
      "execution_count": null,
      "outputs": []
    },
    {
      "cell_type": "code",
      "source": [
        "from sklearn.preprocessing import MinMaxScaler\n",
        "import numpy as np\n",
        "\n",
        "# Assuming data['topics'] is a 2D NumPy array\n",
        "data['X'] = data['X'] + np.random.randn(data['X'].shape[0], data['X'].shape[1])\n"
      ],
      "metadata": {
        "id": "gGqVRTCvzt_9"
      },
      "execution_count": null,
      "outputs": []
    },
    {
      "cell_type": "markdown",
      "source": [
        "# Save datasets"
      ],
      "metadata": {
        "id": "2vD1syslRIwj"
      }
    },
    {
      "cell_type": "code",
      "source": [
        "# Dataset 70 topics and sparse déjà enregitré avec ça\n",
        "cost_L1_topics = np.zeros((data[\"topics\"].shape[0], data[\"topics\"].shape[0]))\n",
        "for i in range(data['topics'].shape[0]):\n",
        "        for j in range(i + 1, data['topics'].shape[0]):\n",
        "            cost_L1_topics[i, j] = np.linalg.norm(data[\"topics\"][i] - data[\"topics\"][j])\n",
        "cost_L1_topics = cost_L1_topics + cost_L1_topics.T\n",
        "data['cost_L1'] = cost_L1_topics"
      ],
      "metadata": {
        "id": "7e7qtaMdfxtU"
      },
      "execution_count": null,
      "outputs": []
    },
    {
      "cell_type": "code",
      "source": [
        "# Dataset 70 topics and sparse déjà enregitré avec ça\n",
        "cost_ot_topics = np.zeros((data[\"topics\"].shape[0], data[\"topics\"].shape[0]))\n",
        "for i in range(data['topics'].shape[0]):\n",
        "        for j in range(i + 1, data['topics'].shape[0]):\n",
        "            cost_ot_topics[i, j] = ot.emd2(data[\"topics\"][i],data[\"topics\"][j], data['cost_E'])\n",
        "cost_ot_topics = cost_ot_topics + cost_ot_topics.T\n",
        "data['cost_OT'] = cost_ot_topics"
      ],
      "metadata": {
        "colab": {
          "base_uri": "https://localhost:8080/",
          "height": 589
        },
        "id": "TqCFJFiMipYP",
        "outputId": "e35f2c94-ea22-4a46-a34b-6f85fd25cf5a"
      },
      "execution_count": null,
      "outputs": [
        {
          "output_type": "error",
          "ename": "AssertionError",
          "evalue": "\nArrays are not almost equal to 6 decimals\na and b vector must have the same sum\nMismatched elements: 1 / 1 (100%)\nMax absolute difference: 7.20696921\nMax relative difference: 0.00390853\n x: array(1851.114894)\n y: array([1843.907925])",
          "traceback": [
            "\u001b[0;31m---------------------------------------------------------------------------\u001b[0m",
            "\u001b[0;31mAssertionError\u001b[0m                            Traceback (most recent call last)",
            "\u001b[0;32m<ipython-input-39-8d713205e2ed>\u001b[0m in \u001b[0;36m<cell line: 3>\u001b[0;34m()\u001b[0m\n\u001b[1;32m      3\u001b[0m \u001b[0;32mfor\u001b[0m \u001b[0mi\u001b[0m \u001b[0;32min\u001b[0m \u001b[0mrange\u001b[0m\u001b[0;34m(\u001b[0m\u001b[0mdata\u001b[0m\u001b[0;34m[\u001b[0m\u001b[0;34m'topics'\u001b[0m\u001b[0;34m]\u001b[0m\u001b[0;34m.\u001b[0m\u001b[0mshape\u001b[0m\u001b[0;34m[\u001b[0m\u001b[0;36m0\u001b[0m\u001b[0;34m]\u001b[0m\u001b[0;34m)\u001b[0m\u001b[0;34m:\u001b[0m\u001b[0;34m\u001b[0m\u001b[0;34m\u001b[0m\u001b[0m\n\u001b[1;32m      4\u001b[0m         \u001b[0;32mfor\u001b[0m \u001b[0mj\u001b[0m \u001b[0;32min\u001b[0m \u001b[0mrange\u001b[0m\u001b[0;34m(\u001b[0m\u001b[0mi\u001b[0m \u001b[0;34m+\u001b[0m \u001b[0;36m1\u001b[0m\u001b[0;34m,\u001b[0m \u001b[0mdata\u001b[0m\u001b[0;34m[\u001b[0m\u001b[0;34m'topics'\u001b[0m\u001b[0;34m]\u001b[0m\u001b[0;34m.\u001b[0m\u001b[0mshape\u001b[0m\u001b[0;34m[\u001b[0m\u001b[0;36m0\u001b[0m\u001b[0;34m]\u001b[0m\u001b[0;34m)\u001b[0m\u001b[0;34m:\u001b[0m\u001b[0;34m\u001b[0m\u001b[0;34m\u001b[0m\u001b[0m\n\u001b[0;32m----> 5\u001b[0;31m             \u001b[0mcost_ot_topics\u001b[0m\u001b[0;34m[\u001b[0m\u001b[0mi\u001b[0m\u001b[0;34m,\u001b[0m \u001b[0mj\u001b[0m\u001b[0;34m]\u001b[0m \u001b[0;34m=\u001b[0m \u001b[0mot\u001b[0m\u001b[0;34m.\u001b[0m\u001b[0memd2\u001b[0m\u001b[0;34m(\u001b[0m\u001b[0mdata\u001b[0m\u001b[0;34m[\u001b[0m\u001b[0;34m\"topics\"\u001b[0m\u001b[0;34m]\u001b[0m\u001b[0;34m[\u001b[0m\u001b[0mi\u001b[0m\u001b[0;34m]\u001b[0m\u001b[0;34m,\u001b[0m\u001b[0mdata\u001b[0m\u001b[0;34m[\u001b[0m\u001b[0;34m\"topics\"\u001b[0m\u001b[0;34m]\u001b[0m\u001b[0;34m[\u001b[0m\u001b[0mj\u001b[0m\u001b[0;34m]\u001b[0m\u001b[0;34m,\u001b[0m \u001b[0mdata\u001b[0m\u001b[0;34m[\u001b[0m\u001b[0;34m'cost_E'\u001b[0m\u001b[0;34m]\u001b[0m\u001b[0;34m)\u001b[0m\u001b[0;34m\u001b[0m\u001b[0;34m\u001b[0m\u001b[0m\n\u001b[0m\u001b[1;32m      6\u001b[0m \u001b[0mcost_ot_topics\u001b[0m \u001b[0;34m=\u001b[0m \u001b[0mcost_ot_topics\u001b[0m \u001b[0;34m+\u001b[0m \u001b[0mcost_ot_topics\u001b[0m\u001b[0;34m.\u001b[0m\u001b[0mT\u001b[0m\u001b[0;34m\u001b[0m\u001b[0;34m\u001b[0m\u001b[0m\n\u001b[1;32m      7\u001b[0m \u001b[0mdata\u001b[0m\u001b[0;34m[\u001b[0m\u001b[0;34m'cost_OT'\u001b[0m\u001b[0;34m]\u001b[0m \u001b[0;34m=\u001b[0m \u001b[0mcost_ot_topics\u001b[0m\u001b[0;34m\u001b[0m\u001b[0;34m\u001b[0m\u001b[0m\n",
            "\u001b[0;32m/usr/local/lib/python3.10/dist-packages/ot/lp/__init__.py\u001b[0m in \u001b[0;36memd2\u001b[0;34m(a, b, M, processes, numItermax, log, return_matrix, center_dual, numThreads, check_marginals)\u001b[0m\n\u001b[1;32m    503\u001b[0m     \u001b[0;31m# ensure that same mass\u001b[0m\u001b[0;34m\u001b[0m\u001b[0;34m\u001b[0m\u001b[0m\n\u001b[1;32m    504\u001b[0m     \u001b[0;32mif\u001b[0m \u001b[0mcheck_marginals\u001b[0m\u001b[0;34m:\u001b[0m\u001b[0;34m\u001b[0m\u001b[0;34m\u001b[0m\u001b[0m\n\u001b[0;32m--> 505\u001b[0;31m         np.testing.assert_almost_equal(a.sum(0),\n\u001b[0m\u001b[1;32m    506\u001b[0m                                     \u001b[0mb\u001b[0m\u001b[0;34m.\u001b[0m\u001b[0msum\u001b[0m\u001b[0;34m(\u001b[0m\u001b[0;36m0\u001b[0m\u001b[0;34m,\u001b[0m\u001b[0mkeepdims\u001b[0m\u001b[0;34m=\u001b[0m\u001b[0;32mTrue\u001b[0m\u001b[0;34m)\u001b[0m\u001b[0;34m,\u001b[0m \u001b[0merr_msg\u001b[0m\u001b[0;34m=\u001b[0m\u001b[0;34m'a and b vector must have the same sum'\u001b[0m\u001b[0;34m,\u001b[0m\u001b[0;34m\u001b[0m\u001b[0;34m\u001b[0m\u001b[0m\n\u001b[1;32m    507\u001b[0m                                     decimal=6)\n",
            "    \u001b[0;31m[... skipping hidden 2 frame]\u001b[0m\n",
            "\u001b[0;32m/usr/local/lib/python3.10/dist-packages/numpy/testing/_private/utils.py\u001b[0m in \u001b[0;36massert_array_compare\u001b[0;34m(comparison, x, y, err_msg, verbose, header, precision, equal_nan, equal_inf)\u001b[0m\n\u001b[1;32m    842\u001b[0m                                 \u001b[0mverbose\u001b[0m\u001b[0;34m=\u001b[0m\u001b[0mverbose\u001b[0m\u001b[0;34m,\u001b[0m \u001b[0mheader\u001b[0m\u001b[0;34m=\u001b[0m\u001b[0mheader\u001b[0m\u001b[0;34m,\u001b[0m\u001b[0;34m\u001b[0m\u001b[0;34m\u001b[0m\u001b[0m\n\u001b[1;32m    843\u001b[0m                                 names=('x', 'y'), precision=precision)\n\u001b[0;32m--> 844\u001b[0;31m             \u001b[0;32mraise\u001b[0m \u001b[0mAssertionError\u001b[0m\u001b[0;34m(\u001b[0m\u001b[0mmsg\u001b[0m\u001b[0;34m)\u001b[0m\u001b[0;34m\u001b[0m\u001b[0;34m\u001b[0m\u001b[0m\n\u001b[0m\u001b[1;32m    845\u001b[0m     \u001b[0;32mexcept\u001b[0m \u001b[0mValueError\u001b[0m\u001b[0;34m:\u001b[0m\u001b[0;34m\u001b[0m\u001b[0;34m\u001b[0m\u001b[0m\n\u001b[1;32m    846\u001b[0m         \u001b[0;32mimport\u001b[0m \u001b[0mtraceback\u001b[0m\u001b[0;34m\u001b[0m\u001b[0;34m\u001b[0m\u001b[0m\n",
            "\u001b[0;31mAssertionError\u001b[0m: \nArrays are not almost equal to 6 decimals\na and b vector must have the same sum\nMismatched elements: 1 / 1 (100%)\nMax absolute difference: 7.20696921\nMax relative difference: 0.00390853\n x: array(1851.114894)\n y: array([1843.907925])"
          ]
        }
      ]
    },
    {
      "cell_type": "code",
      "source": [
        "data_converted = {key: value.tolist() if isinstance(value, np.ndarray) else value for key, value in data.items()}\n",
        "\n",
        "# Enregistrer le dictionnaire\n",
        "import json\n",
        "\n",
        "# Enregistrer le dictionnaire dans un fichier JSON\n",
        "with open('/content/drive/MyDrive/projet_ot/dataset_words_30.json', 'w') as fichier:\n",
        "    json.dump(data_converted, fichier)"
      ],
      "metadata": {
        "colab": {
          "base_uri": "https://localhost:8080/",
          "height": 259
        },
        "id": "0XzTxvOqhanU",
        "outputId": "1aa1239f-67d9-4d2d-c80c-671fcdb4b3cf"
      },
      "execution_count": null,
      "outputs": [
        {
          "output_type": "error",
          "ename": "NameError",
          "evalue": "name 'data' is not defined",
          "traceback": [
            "\u001b[0;31m---------------------------------------------------------------------------\u001b[0m",
            "\u001b[0;31mNameError\u001b[0m                                 Traceback (most recent call last)",
            "\u001b[0;32m<ipython-input-50-013e0eb223e9>\u001b[0m in \u001b[0;36m<cell line: 1>\u001b[0;34m()\u001b[0m\n\u001b[0;32m----> 1\u001b[0;31m \u001b[0mdata_converted\u001b[0m \u001b[0;34m=\u001b[0m \u001b[0;34m{\u001b[0m\u001b[0mkey\u001b[0m\u001b[0;34m:\u001b[0m \u001b[0mvalue\u001b[0m\u001b[0;34m.\u001b[0m\u001b[0mtolist\u001b[0m\u001b[0;34m(\u001b[0m\u001b[0;34m)\u001b[0m \u001b[0;32mif\u001b[0m \u001b[0misinstance\u001b[0m\u001b[0;34m(\u001b[0m\u001b[0mvalue\u001b[0m\u001b[0;34m,\u001b[0m \u001b[0mnp\u001b[0m\u001b[0;34m.\u001b[0m\u001b[0mndarray\u001b[0m\u001b[0;34m)\u001b[0m \u001b[0;32melse\u001b[0m \u001b[0mvalue\u001b[0m \u001b[0;32mfor\u001b[0m \u001b[0mkey\u001b[0m\u001b[0;34m,\u001b[0m \u001b[0mvalue\u001b[0m \u001b[0;32min\u001b[0m \u001b[0mdata\u001b[0m\u001b[0;34m.\u001b[0m\u001b[0mitems\u001b[0m\u001b[0;34m(\u001b[0m\u001b[0;34m)\u001b[0m\u001b[0;34m}\u001b[0m\u001b[0;34m\u001b[0m\u001b[0;34m\u001b[0m\u001b[0m\n\u001b[0m\u001b[1;32m      2\u001b[0m \u001b[0;34m\u001b[0m\u001b[0m\n\u001b[1;32m      3\u001b[0m \u001b[0;31m# Enregistrer le dictionnaire\u001b[0m\u001b[0;34m\u001b[0m\u001b[0;34m\u001b[0m\u001b[0m\n\u001b[1;32m      4\u001b[0m \u001b[0;32mimport\u001b[0m \u001b[0mjson\u001b[0m\u001b[0;34m\u001b[0m\u001b[0;34m\u001b[0m\u001b[0m\n\u001b[1;32m      5\u001b[0m \u001b[0;34m\u001b[0m\u001b[0m\n",
            "\u001b[0;31mNameError\u001b[0m: name 'data' is not defined"
          ]
        }
      ]
    },
    {
      "cell_type": "code",
      "source": [
        "with open('/content/drive/MyDrive/projet_ot/dataset_words_30.json', 'r') as fichier:\n",
        "    loaded_data = json.load(fichier)\n",
        "\n",
        "# Convertir les listes en numpy arrays si nécessaire\n",
        "data = {key: np.array(value) if isinstance(value, list) else value for key, value in loaded_data.items()}\n"
      ],
      "metadata": {
        "colab": {
          "base_uri": "https://localhost:8080/",
          "height": 436
        },
        "id": "LkSeLTEAiCb1",
        "outputId": "cd80c4ee-85f4-4a75-bbe4-26f9d36b2f63"
      },
      "execution_count": null,
      "outputs": [
        {
          "output_type": "error",
          "ename": "JSONDecodeError",
          "evalue": "Expecting ',' delimiter: line 1 column 65409586 (char 65409585)",
          "traceback": [
            "\u001b[0;31m---------------------------------------------------------------------------\u001b[0m",
            "\u001b[0;31mJSONDecodeError\u001b[0m                           Traceback (most recent call last)",
            "\u001b[0;32m<ipython-input-51-0cf6c3291510>\u001b[0m in \u001b[0;36m<cell line: 1>\u001b[0;34m()\u001b[0m\n\u001b[1;32m      1\u001b[0m \u001b[0;32mwith\u001b[0m \u001b[0mopen\u001b[0m\u001b[0;34m(\u001b[0m\u001b[0;34m'/content/drive/MyDrive/projet_ot/dataset_words_30.json'\u001b[0m\u001b[0;34m,\u001b[0m \u001b[0;34m'r'\u001b[0m\u001b[0;34m)\u001b[0m \u001b[0;32mas\u001b[0m \u001b[0mfichier\u001b[0m\u001b[0;34m:\u001b[0m\u001b[0;34m\u001b[0m\u001b[0;34m\u001b[0m\u001b[0m\n\u001b[0;32m----> 2\u001b[0;31m     \u001b[0mloaded_data\u001b[0m \u001b[0;34m=\u001b[0m \u001b[0mjson\u001b[0m\u001b[0;34m.\u001b[0m\u001b[0mload\u001b[0m\u001b[0;34m(\u001b[0m\u001b[0mfichier\u001b[0m\u001b[0;34m)\u001b[0m\u001b[0;34m\u001b[0m\u001b[0;34m\u001b[0m\u001b[0m\n\u001b[0m\u001b[1;32m      3\u001b[0m \u001b[0;34m\u001b[0m\u001b[0m\n\u001b[1;32m      4\u001b[0m \u001b[0;31m# Convertir les listes en numpy arrays si nécessaire\u001b[0m\u001b[0;34m\u001b[0m\u001b[0;34m\u001b[0m\u001b[0m\n\u001b[1;32m      5\u001b[0m \u001b[0mdata\u001b[0m \u001b[0;34m=\u001b[0m \u001b[0;34m{\u001b[0m\u001b[0mkey\u001b[0m\u001b[0;34m:\u001b[0m \u001b[0mnp\u001b[0m\u001b[0;34m.\u001b[0m\u001b[0marray\u001b[0m\u001b[0;34m(\u001b[0m\u001b[0mvalue\u001b[0m\u001b[0;34m)\u001b[0m \u001b[0;32mif\u001b[0m \u001b[0misinstance\u001b[0m\u001b[0;34m(\u001b[0m\u001b[0mvalue\u001b[0m\u001b[0;34m,\u001b[0m \u001b[0mlist\u001b[0m\u001b[0;34m)\u001b[0m \u001b[0;32melse\u001b[0m \u001b[0mvalue\u001b[0m \u001b[0;32mfor\u001b[0m \u001b[0mkey\u001b[0m\u001b[0;34m,\u001b[0m \u001b[0mvalue\u001b[0m \u001b[0;32min\u001b[0m \u001b[0mloaded_data\u001b[0m\u001b[0;34m.\u001b[0m\u001b[0mitems\u001b[0m\u001b[0;34m(\u001b[0m\u001b[0;34m)\u001b[0m\u001b[0;34m}\u001b[0m\u001b[0;34m\u001b[0m\u001b[0;34m\u001b[0m\u001b[0m\n",
            "\u001b[0;32m/usr/lib/python3.10/json/__init__.py\u001b[0m in \u001b[0;36mload\u001b[0;34m(fp, cls, object_hook, parse_float, parse_int, parse_constant, object_pairs_hook, **kw)\u001b[0m\n\u001b[1;32m    291\u001b[0m     \u001b[0mkwarg\u001b[0m\u001b[0;34m;\u001b[0m \u001b[0motherwise\u001b[0m\u001b[0;31m \u001b[0m\u001b[0;31m`\u001b[0m\u001b[0;31m`\u001b[0m\u001b[0mJSONDecoder\u001b[0m\u001b[0;31m`\u001b[0m\u001b[0;31m`\u001b[0m \u001b[0;32mis\u001b[0m \u001b[0mused\u001b[0m\u001b[0;34m.\u001b[0m\u001b[0;34m\u001b[0m\u001b[0;34m\u001b[0m\u001b[0m\n\u001b[1;32m    292\u001b[0m     \"\"\"\n\u001b[0;32m--> 293\u001b[0;31m     return loads(fp.read(),\n\u001b[0m\u001b[1;32m    294\u001b[0m         \u001b[0mcls\u001b[0m\u001b[0;34m=\u001b[0m\u001b[0mcls\u001b[0m\u001b[0;34m,\u001b[0m \u001b[0mobject_hook\u001b[0m\u001b[0;34m=\u001b[0m\u001b[0mobject_hook\u001b[0m\u001b[0;34m,\u001b[0m\u001b[0;34m\u001b[0m\u001b[0;34m\u001b[0m\u001b[0m\n\u001b[1;32m    295\u001b[0m         \u001b[0mparse_float\u001b[0m\u001b[0;34m=\u001b[0m\u001b[0mparse_float\u001b[0m\u001b[0;34m,\u001b[0m \u001b[0mparse_int\u001b[0m\u001b[0;34m=\u001b[0m\u001b[0mparse_int\u001b[0m\u001b[0;34m,\u001b[0m\u001b[0;34m\u001b[0m\u001b[0;34m\u001b[0m\u001b[0m\n",
            "\u001b[0;32m/usr/lib/python3.10/json/__init__.py\u001b[0m in \u001b[0;36mloads\u001b[0;34m(s, cls, object_hook, parse_float, parse_int, parse_constant, object_pairs_hook, **kw)\u001b[0m\n\u001b[1;32m    344\u001b[0m             \u001b[0mparse_int\u001b[0m \u001b[0;32mis\u001b[0m \u001b[0;32mNone\u001b[0m \u001b[0;32mand\u001b[0m \u001b[0mparse_float\u001b[0m \u001b[0;32mis\u001b[0m \u001b[0;32mNone\u001b[0m \u001b[0;32mand\u001b[0m\u001b[0;34m\u001b[0m\u001b[0;34m\u001b[0m\u001b[0m\n\u001b[1;32m    345\u001b[0m             parse_constant is None and object_pairs_hook is None and not kw):\n\u001b[0;32m--> 346\u001b[0;31m         \u001b[0;32mreturn\u001b[0m \u001b[0m_default_decoder\u001b[0m\u001b[0;34m.\u001b[0m\u001b[0mdecode\u001b[0m\u001b[0;34m(\u001b[0m\u001b[0ms\u001b[0m\u001b[0;34m)\u001b[0m\u001b[0;34m\u001b[0m\u001b[0;34m\u001b[0m\u001b[0m\n\u001b[0m\u001b[1;32m    347\u001b[0m     \u001b[0;32mif\u001b[0m \u001b[0mcls\u001b[0m \u001b[0;32mis\u001b[0m \u001b[0;32mNone\u001b[0m\u001b[0;34m:\u001b[0m\u001b[0;34m\u001b[0m\u001b[0;34m\u001b[0m\u001b[0m\n\u001b[1;32m    348\u001b[0m         \u001b[0mcls\u001b[0m \u001b[0;34m=\u001b[0m \u001b[0mJSONDecoder\u001b[0m\u001b[0;34m\u001b[0m\u001b[0;34m\u001b[0m\u001b[0m\n",
            "\u001b[0;32m/usr/lib/python3.10/json/decoder.py\u001b[0m in \u001b[0;36mdecode\u001b[0;34m(self, s, _w)\u001b[0m\n\u001b[1;32m    335\u001b[0m \u001b[0;34m\u001b[0m\u001b[0m\n\u001b[1;32m    336\u001b[0m         \"\"\"\n\u001b[0;32m--> 337\u001b[0;31m         \u001b[0mobj\u001b[0m\u001b[0;34m,\u001b[0m \u001b[0mend\u001b[0m \u001b[0;34m=\u001b[0m \u001b[0mself\u001b[0m\u001b[0;34m.\u001b[0m\u001b[0mraw_decode\u001b[0m\u001b[0;34m(\u001b[0m\u001b[0ms\u001b[0m\u001b[0;34m,\u001b[0m \u001b[0midx\u001b[0m\u001b[0;34m=\u001b[0m\u001b[0m_w\u001b[0m\u001b[0;34m(\u001b[0m\u001b[0ms\u001b[0m\u001b[0;34m,\u001b[0m \u001b[0;36m0\u001b[0m\u001b[0;34m)\u001b[0m\u001b[0;34m.\u001b[0m\u001b[0mend\u001b[0m\u001b[0;34m(\u001b[0m\u001b[0;34m)\u001b[0m\u001b[0;34m)\u001b[0m\u001b[0;34m\u001b[0m\u001b[0;34m\u001b[0m\u001b[0m\n\u001b[0m\u001b[1;32m    338\u001b[0m         \u001b[0mend\u001b[0m \u001b[0;34m=\u001b[0m \u001b[0m_w\u001b[0m\u001b[0;34m(\u001b[0m\u001b[0ms\u001b[0m\u001b[0;34m,\u001b[0m \u001b[0mend\u001b[0m\u001b[0;34m)\u001b[0m\u001b[0;34m.\u001b[0m\u001b[0mend\u001b[0m\u001b[0;34m(\u001b[0m\u001b[0;34m)\u001b[0m\u001b[0;34m\u001b[0m\u001b[0;34m\u001b[0m\u001b[0m\n\u001b[1;32m    339\u001b[0m         \u001b[0;32mif\u001b[0m \u001b[0mend\u001b[0m \u001b[0;34m!=\u001b[0m \u001b[0mlen\u001b[0m\u001b[0;34m(\u001b[0m\u001b[0ms\u001b[0m\u001b[0;34m)\u001b[0m\u001b[0;34m:\u001b[0m\u001b[0;34m\u001b[0m\u001b[0;34m\u001b[0m\u001b[0m\n",
            "\u001b[0;32m/usr/lib/python3.10/json/decoder.py\u001b[0m in \u001b[0;36mraw_decode\u001b[0;34m(self, s, idx)\u001b[0m\n\u001b[1;32m    351\u001b[0m         \"\"\"\n\u001b[1;32m    352\u001b[0m         \u001b[0;32mtry\u001b[0m\u001b[0;34m:\u001b[0m\u001b[0;34m\u001b[0m\u001b[0;34m\u001b[0m\u001b[0m\n\u001b[0;32m--> 353\u001b[0;31m             \u001b[0mobj\u001b[0m\u001b[0;34m,\u001b[0m \u001b[0mend\u001b[0m \u001b[0;34m=\u001b[0m \u001b[0mself\u001b[0m\u001b[0;34m.\u001b[0m\u001b[0mscan_once\u001b[0m\u001b[0;34m(\u001b[0m\u001b[0ms\u001b[0m\u001b[0;34m,\u001b[0m \u001b[0midx\u001b[0m\u001b[0;34m)\u001b[0m\u001b[0;34m\u001b[0m\u001b[0;34m\u001b[0m\u001b[0m\n\u001b[0m\u001b[1;32m    354\u001b[0m         \u001b[0;32mexcept\u001b[0m \u001b[0mStopIteration\u001b[0m \u001b[0;32mas\u001b[0m \u001b[0merr\u001b[0m\u001b[0;34m:\u001b[0m\u001b[0;34m\u001b[0m\u001b[0;34m\u001b[0m\u001b[0m\n\u001b[1;32m    355\u001b[0m             \u001b[0;32mraise\u001b[0m \u001b[0mJSONDecodeError\u001b[0m\u001b[0;34m(\u001b[0m\u001b[0;34m\"Expecting value\"\u001b[0m\u001b[0;34m,\u001b[0m \u001b[0ms\u001b[0m\u001b[0;34m,\u001b[0m \u001b[0merr\u001b[0m\u001b[0;34m.\u001b[0m\u001b[0mvalue\u001b[0m\u001b[0;34m)\u001b[0m \u001b[0;32mfrom\u001b[0m \u001b[0;32mNone\u001b[0m\u001b[0;34m\u001b[0m\u001b[0;34m\u001b[0m\u001b[0m\n",
            "\u001b[0;31mJSONDecodeError\u001b[0m: Expecting ',' delimiter: line 1 column 65409586 (char 65409585)"
          ]
        }
      ]
    },
    {
      "cell_type": "code",
      "source": [
        "bow_data, y = data['X'], data['y']\n",
        "topic_proportions = data['proportions']\n",
        "\n",
        "seed = 0\n",
        "bow_train, bow_test, topic_train, topic_test, y_train, y_test = train_test_split(bow_data, topic_proportions, y, random_state=seed)\n",
        "\n",
        "methods = {'HOTT': hoftt, 'L1_W1': hoftt}\n",
        "\n",
        "for method in methods.keys():\n",
        "\n",
        "    t_s = time.time()\n",
        "    # Compute HOTT distance\n",
        "    if method == 'HOTT':\n",
        "      X_train, X_test = topic_train, topic_test\n",
        "      C = data['cost_T']\n",
        "\n",
        "    # Compute test error\n",
        "      test_error, prediction_HOTT = knn(X_train, X_test, y_train, y_test, methods[method], C, n_neighbors=7)\n",
        "      print(method + ' test error is %f; took %.2f seconds' % (test_error, time.time()-t_s))\n",
        "      t_s = time.time()\n",
        "\n",
        "    #Compute L1 then Wasserstein distance\n",
        "    if method == 'L1_W1':\n",
        "      X_train, X_test = topic_train, topic_test\n",
        "      C = data['cost_L1']\n",
        "\n",
        "    # Compute test error\n",
        "      test_error, prediction_L1_W1 = knn(X_train, X_test, y_train, y_test, methods[method], C, n_neighbors=7)\n",
        "      print(method + ' test error is %f; took %.2f seconds' % (test_error, time.time()-t_s))\n",
        "      t_s = time.time()\n",
        "\n",
        "# Done!"
      ],
      "metadata": {
        "colab": {
          "base_uri": "https://localhost:8080/"
        },
        "id": "tguiF1SKgfP4",
        "outputId": "e02dca0c-18fa-497b-9f4e-c6f05d68abf9"
      },
      "execution_count": null,
      "outputs": [
        {
          "output_type": "stream",
          "name": "stdout",
          "text": [
            "HOTT test error is 0.048649; took 80.19 seconds\n",
            "L1_W1 test error is 0.054054; took 51.29 seconds\n"
          ]
        }
      ]
    },
    {
      "cell_type": "code",
      "source": [
        "# Apply t-SNE for dimensionality reduction to 2D\n",
        "predicted_HOTT = np.array(prediction_HOTT)\n",
        "predicted_L1_W1 = np.array(prediction_L1_W1)\n",
        "tsne = TSNE(n_components=2, random_state=42)\n",
        "X_test_tsne = tsne.fit_transform(X_test)\n",
        "\n",
        "# Create a scatter plot\n",
        "plt.figure()\n",
        "\n",
        "# Get unique labels from y_test\n",
        "unique_labels = np.unique(y_test)\n",
        "\n",
        "# Plot the points with different colors for each class\n",
        "for label in unique_labels:\n",
        "    indices = np.where(y_test == label)\n",
        "    plt.scatter(X_test_tsne[indices, 0], X_test_tsne[indices, 1], label=f'Class {label}')\n",
        "\n",
        "#plt.title('t-SNE Visualization of X_test')\n",
        "#plt.xlabel('t-SNE Dimension 1')\n",
        "#plt.ylabel('t-SNE Dimension 2')\n",
        "\n",
        "# Add legend\n",
        "plt.axis(\"off\")\n",
        "plt.legend()\n",
        "plt.savefig(\"true_values.png\")\n",
        "plt.show()\n"
      ],
      "metadata": {
        "colab": {
          "base_uri": "https://localhost:8080/",
          "height": 406
        },
        "id": "Ez0p5Y-iWnP1",
        "outputId": "b056fe9a-bcbb-44da-c095-918b08fc0269"
      },
      "execution_count": null,
      "outputs": [
        {
          "output_type": "display_data",
          "data": {
            "text/plain": [
              "<Figure size 640x480 with 1 Axes>"
            ],
            "image/png": "[encoded data removed]"
          },
          "metadata": {}
        }
      ]
    },
    {
      "cell_type": "code",
      "source": [],
      "metadata": {
        "id": "Ir2d2RhQmH9Z"
      },
      "execution_count": null,
      "outputs": []
    },
    {
      "cell_type": "code",
      "source": [
        "# Create a scatter plot\n",
        "plt.figure()\n",
        "\n",
        "# Get unique labels from y_test\n",
        "unique_labels = np.unique(predicted_HOTT)\n",
        "\n",
        "# Plot the points with different colors for each class\n",
        "for label in unique_labels:\n",
        "    indices = np.where(predicted_HOTT == label)\n",
        "    plt.scatter(X_test_tsne[indices, 0], X_test_tsne[indices, 1], label=f'Class {label}')\n",
        "\n",
        "#plt.title('t-SNE Visualization of X_test')\n",
        "#plt.xlabel('t-SNE Dimension 1')\n",
        "#plt.ylabel('t-SNE Dimension 2')\n",
        "\n",
        "# Add legend\n",
        "plt.axis(\"off\")\n",
        "plt.legend()\n",
        "plt.savefig(\"HOTT_values.png\")\n",
        "plt.show()"
      ],
      "metadata": {
        "colab": {
          "base_uri": "https://localhost:8080/",
          "height": 406
        },
        "id": "PTImcOhwU2YW",
        "outputId": "b80c8c38-e141-440f-894d-33973e5d4411"
      },
      "execution_count": null,
      "outputs": [
        {
          "output_type": "display_data",
          "data": {
            "text/plain": [
              "<Figure size 640x480 with 1 Axes>"
            ],
            "image/png": "[encoded data removed]"
          },
          "metadata": {}
        }
      ]
    },
    {
      "cell_type": "code",
      "source": [
        "# Create a scatter plot\n",
        "plt.figure()\n",
        "\n",
        "# Get unique labels from y_test\n",
        "unique_labels = np.unique(predicted_L1_W1)\n",
        "\n",
        "# Plot the points with different colors for each class\n",
        "for label in unique_labels:\n",
        "    indices = np.where(predicted_L1_W1 == label)\n",
        "    plt.scatter(X_test_tsne[indices, 0], X_test_tsne[indices, 1], label=f'Class {label}')\n",
        "\n",
        "#plt.title('t-SNE Visualization of X_test')\n",
        "#plt.xlabel('t-SNE Dimension 1')\n",
        "#plt.ylabel('t-SNE Dimension 2')\n",
        "\n",
        "# Add legend\n",
        "plt.axis(\"off\")\n",
        "plt.legend()\n",
        "plt.savefig(\"L1_values.png\")\n",
        "plt.show()"
      ],
      "metadata": {
        "colab": {
          "base_uri": "https://localhost:8080/",
          "height": 406
        },
        "id": "CjMhjoqwYAXY",
        "outputId": "8b24da30-67e1-409b-eae4-af7a5f7dbf17"
      },
      "execution_count": null,
      "outputs": [
        {
          "output_type": "display_data",
          "data": {
            "text/plain": [
              "<Figure size 640x480 with 1 Axes>"
            ],
            "image/png": "[encoded data removed]"
          },
          "metadata": {}
        }
      ]
    },
    {
      "cell_type": "code",
      "source": [
        "# KL + OT\n",
        "def kl(p, q):\n",
        "\n",
        "    return np.sum(np.where((p != 0), p * np.log(p / q), 0))\n",
        "\n",
        "cost_KL_topics = np.zeros((data[\"topics\"].shape[0], data[\"topics\"].shape[0]))\n",
        "for i in range(data['topics'].shape[0]):\n",
        "        for j in range(i + 1, data['topics'].shape[0]):\n",
        "            cost_KL_topics[i, j] = kl(data[\"topics\"][i],data[\"topics\"][j])\n",
        "cost_KL_topics = cost_KL_topics + cost_KL_topics.T\n",
        "data['cost_KL'] = cost_KL_topics\n",
        "C = data['cost_KL']\n",
        "\n",
        "    # Compute test error\n",
        "test_error, prediction_KL_W1 = knn(X_train, X_test, y_train, y_test, methods[method], C, n_neighbors=7)\n",
        "print(method + ' test error is %f; took %.2f seconds' % (test_error, time.time()-t_s))"
      ],
      "metadata": {
        "colab": {
          "base_uri": "https://localhost:8080/"
        },
        "id": "iIpI8WW7oz7r",
        "outputId": "95b5f5a2-ab82-4d66-d33d-3dff0184168f"
      },
      "execution_count": null,
      "outputs": [
        {
          "output_type": "stream",
          "name": "stderr",
          "text": [
            "<ipython-input-42-a94ee407e7da>:4: RuntimeWarning: divide by zero encountered in divide\n",
            "  return np.sum(np.where((p != 0), p * np.log(p / q), 0))\n",
            "<ipython-input-42-a94ee407e7da>:4: RuntimeWarning: divide by zero encountered in log\n",
            "  return np.sum(np.where((p != 0), p * np.log(p / q), 0))\n",
            "<ipython-input-42-a94ee407e7da>:4: RuntimeWarning: invalid value encountered in multiply\n",
            "  return np.sum(np.where((p != 0), p * np.log(p / q), 0))\n",
            "/usr/local/lib/python3.10/dist-packages/ot/lp/__init__.py:571: UserWarning: Problem infeasible. Check that a and b are in the simplex\n",
            "  check_result(result_code)\n",
            "/usr/local/lib/python3.10/dist-packages/ot/lp/__init__.py:571: UserWarning: Problem infeasible. Check that a and b are in the simplex\n",
            "  check_result(result_code)\n",
            "/usr/local/lib/python3.10/dist-packages/ot/lp/__init__.py:571: UserWarning: Problem infeasible. Check that a and b are in the simplex\n",
            "  check_result(result_code)\n",
            "/usr/local/lib/python3.10/dist-packages/ot/lp/__init__.py:571: UserWarning: Problem infeasible. Check that a and b are in the simplex\n",
            "  check_result(result_code)\n",
            "/usr/local/lib/python3.10/dist-packages/ot/lp/__init__.py:571: UserWarning: Problem infeasible. Check that a and b are in the simplex\n",
            "  check_result(result_code)\n",
            "/usr/local/lib/python3.10/dist-packages/ot/lp/__init__.py:571: UserWarning: Problem infeasible. Check that a and b are in the simplex\n",
            "  check_result(result_code)\n",
            "/usr/local/lib/python3.10/dist-packages/ot/lp/__init__.py:571: UserWarning: Problem infeasible. Check that a and b are in the simplex\n",
            "  check_result(result_code)\n",
            "/usr/local/lib/python3.10/dist-packages/ot/lp/__init__.py:571: UserWarning: Problem infeasible. Check that a and b are in the simplex\n",
            "  check_result(result_code)\n",
            "/usr/local/lib/python3.10/dist-packages/ot/lp/__init__.py:571: UserWarning: Problem infeasible. Check that a and b are in the simplex\n",
            "  check_result(result_code)\n",
            "/usr/local/lib/python3.10/dist-packages/ot/lp/__init__.py:571: UserWarning: Problem infeasible. Check that a and b are in the simplex\n",
            "  check_result(result_code)\n",
            "/usr/local/lib/python3.10/dist-packages/ot/lp/__init__.py:571: UserWarning: Problem infeasible. Check that a and b are in the simplex\n",
            "  check_result(result_code)\n",
            "/usr/local/lib/python3.10/dist-packages/ot/lp/__init__.py:571: UserWarning: Problem infeasible. Check that a and b are in the simplex\n",
            "  check_result(result_code)\n",
            "/usr/local/lib/python3.10/dist-packages/ot/lp/__init__.py:571: UserWarning: Problem infeasible. Check that a and b are in the simplex\n",
            "  check_result(result_code)\n",
            "/usr/local/lib/python3.10/dist-packages/ot/lp/__init__.py:571: UserWarning: Problem infeasible. Check that a and b are in the simplex\n",
            "  check_result(result_code)\n",
            "/usr/local/lib/python3.10/dist-packages/ot/lp/__init__.py:571: UserWarning: Problem infeasible. Check that a and b are in the simplex\n",
            "  check_result(result_code)\n",
            "/usr/local/lib/python3.10/dist-packages/ot/lp/__init__.py:571: UserWarning: Problem infeasible. Check that a and b are in the simplex\n",
            "  check_result(result_code)\n",
            "/usr/local/lib/python3.10/dist-packages/ot/lp/__init__.py:571: UserWarning: Problem infeasible. Check that a and b are in the simplex\n",
            "  check_result(result_code)\n",
            "/usr/local/lib/python3.10/dist-packages/ot/lp/__init__.py:571: UserWarning: Problem infeasible. Check that a and b are in the simplex\n",
            "  check_result(result_code)\n",
            "/usr/local/lib/python3.10/dist-packages/ot/lp/__init__.py:571: UserWarning: Problem infeasible. Check that a and b are in the simplex\n",
            "  check_result(result_code)\n",
            "/usr/local/lib/python3.10/dist-packages/ot/lp/__init__.py:571: UserWarning: Problem infeasible. Check that a and b are in the simplex\n",
            "  check_result(result_code)\n",
            "/usr/local/lib/python3.10/dist-packages/ot/lp/__init__.py:571: UserWarning: Problem infeasible. Check that a and b are in the simplex\n",
            "  check_result(result_code)\n",
            "/usr/local/lib/python3.10/dist-packages/ot/lp/__init__.py:571: UserWarning: Problem infeasible. Check that a and b are in the simplex\n",
            "  check_result(result_code)\n",
            "/usr/local/lib/python3.10/dist-packages/ot/lp/__init__.py:571: UserWarning: Problem infeasible. Check that a and b are in the simplex\n",
            "  check_result(result_code)\n",
            "/usr/local/lib/python3.10/dist-packages/ot/lp/__init__.py:571: UserWarning: Problem infeasible. Check that a and b are in the simplex\n",
            "  check_result(result_code)\n",
            "/usr/local/lib/python3.10/dist-packages/ot/lp/__init__.py:571: UserWarning: Problem infeasible. Check that a and b are in the simplex\n",
            "  check_result(result_code)\n",
            "/usr/local/lib/python3.10/dist-packages/ot/lp/__init__.py:571: UserWarning: Problem infeasible. Check that a and b are in the simplex\n",
            "  check_result(result_code)\n",
            "/usr/local/lib/python3.10/dist-packages/ot/lp/__init__.py:571: UserWarning: Problem infeasible. Check that a and b are in the simplex\n",
            "  check_result(result_code)\n",
            "/usr/local/lib/python3.10/dist-packages/ot/lp/__init__.py:571: UserWarning: Problem infeasible. Check that a and b are in the simplex\n",
            "  check_result(result_code)\n",
            "/usr/local/lib/python3.10/dist-packages/ot/lp/__init__.py:571: UserWarning: Problem infeasible. Check that a and b are in the simplex\n",
            "  check_result(result_code)\n",
            "/usr/local/lib/python3.10/dist-packages/ot/lp/__init__.py:571: UserWarning: Problem infeasible. Check that a and b are in the simplex\n",
            "  check_result(result_code)\n",
            "/usr/local/lib/python3.10/dist-packages/ot/lp/__init__.py:571: UserWarning: Problem infeasible. Check that a and b are in the simplex\n",
            "  check_result(result_code)\n",
            "/usr/local/lib/python3.10/dist-packages/ot/lp/__init__.py:571: UserWarning: Problem infeasible. Check that a and b are in the simplex\n",
            "  check_result(result_code)\n",
            "/usr/local/lib/python3.10/dist-packages/ot/lp/__init__.py:571: UserWarning: Problem infeasible. Check that a and b are in the simplex\n",
            "  check_result(result_code)\n",
            "/usr/local/lib/python3.10/dist-packages/ot/lp/__init__.py:571: UserWarning: Problem infeasible. Check that a and b are in the simplex\n",
            "  check_result(result_code)\n",
            "/usr/local/lib/python3.10/dist-packages/ot/lp/__init__.py:571: UserWarning: Problem infeasible. Check that a and b are in the simplex\n",
            "  check_result(result_code)\n",
            "/usr/local/lib/python3.10/dist-packages/ot/lp/__init__.py:571: UserWarning: Problem infeasible. Check that a and b are in the simplex\n",
            "  check_result(result_code)\n"
          ]
        },
        {
          "output_type": "stream",
          "name": "stdout",
          "text": [
            "L1_W1 test error is 0.891892; took 131.59 seconds\n"
          ]
        }
      ]
    },
    {
      "cell_type": "code",
      "source": [
        "print(data['cost_T'].shape)\n",
        "print(data['cost_L1'].shape)"
      ],
      "metadata": {
        "colab": {
          "base_uri": "https://localhost:8080/"
        },
        "id": "mbRPN1z4ZId8",
        "outputId": "bb069334-e81c-4e10-f792-22f59fdbf247"
      },
      "execution_count": null,
      "outputs": [
        {
          "output_type": "stream",
          "name": "stdout",
          "text": [
            "(30, 30)\n",
            "(30, 30)\n"
          ]
        }
      ]
    },
    {
      "cell_type": "code",
      "source": [
        "from matplotlib.lines import Line2D\n",
        "predicted_KL_W1 = np.array(prediction_KL_W1)\n",
        "\n",
        "plt.figure()\n",
        "\n",
        "# Get unique labels from y_test\n",
        "unique_labels = np.unique(predicted_KL_W1)\n",
        "\n",
        "# Plot the points with different colors for each class\n",
        "for label in unique_labels:\n",
        "    indices = np.where(predicted_KL_W1 == label)\n",
        "    plt.scatter(X_test_tsne[indices, 0], X_test_tsne[indices, 1], label=f'Class {label}')\n",
        "\n",
        "#plt.title('t-SNE Visualization of X_test')\n",
        "#plt.xlabel('t-SNE Dimension 1')\n",
        "#plt.ylabel('t-SNE Dimension 2')\n",
        "\n",
        "# Add legend\n",
        "plt.axis(\"off\")\n",
        "plt.legend()\n",
        "plt.savefig(\"KL_values.png\")\n",
        "plt.show()"
      ],
      "metadata": {
        "colab": {
          "base_uri": "https://localhost:8080/",
          "height": 406
        },
        "id": "BQDkRbH0y8En",
        "outputId": "58ec65e0-eae4-4c8a-f7e7-8d69c101a827"
      },
      "execution_count": null,
      "outputs": [
        {
          "output_type": "display_data",
          "data": {
            "text/plain": [
              "<Figure size 640x480 with 1 Axes>"
            ],
            "image/png": "[encoded data removed]"
          },
          "metadata": {}
        }
      ]
    },
    {
      "cell_type": "code",
      "source": [
        "from sklearn.metrics import accuracy_score,precision_score, recall_score\n",
        "\n",
        "# Assuming predicted_HOTT is a 1D array of predicted labels\n",
        "accuracy = accuracy_score(y_test, predicted_HOTT)\n",
        "precision_micro = precision_score(y_test, predicted_HOTT, average='micro')\n",
        "recall_micro = recall_score(y_test, predicted_HOTT, average='micro')\n",
        "print(f'Accuracy HOTT: {accuracy * 100:.2f}%')\n",
        "print(f'Recall HOTT: {recall_micro * 100:.2f}%')\n",
        "print(f'Precision HOTT: {precision_micro * 100:.2f}%')\n",
        "accuracy = accuracy_score(y_test, predicted_L1_W1)\n",
        "precision_micro = precision_score(y_test, predicted_L1_W1, average='micro')\n",
        "recall_micro = recall_score(y_test, predicted_L1_W1, average='micro')\n",
        "print(f'Accuracy L1-OT: {accuracy * 100:.2f}%')\n",
        "print(f'Recall L1-OT: {recall_micro * 100:.2f}%')\n",
        "print(f'Precision L1-OT: {precision_micro * 100:.2f}%')\n",
        "# Assuming predicted_HOTT is a 1D array of predicted labels\n",
        "accuracy = accuracy_score(y_test, predicted_KL_W1)\n",
        "precision_micro = precision_score(y_test, predicted_KL_W1, average='micro')\n",
        "recall_micro = recall_score(y_test, predicted_KL_W1, average='micro')\n",
        "print(f'Accuracy KL: {accuracy * 100:.2f}%')\n",
        "print(f'Recall KL-OT: {recall_micro * 100:.2f}%')\n",
        "print(f'Precision KL-OT: {precision_micro * 100:.2f}%')"
      ],
      "metadata": {
        "colab": {
          "base_uri": "https://localhost:8080/"
        },
        "id": "RfsXSPrlmRkK",
        "outputId": "595abf52-f76d-4180-a0f7-1a233ed594e1"
      },
      "execution_count": null,
      "outputs": [
        {
          "output_type": "stream",
          "name": "stdout",
          "text": [
            "Accuracy HOTT: 97.84%\n",
            "Recall HOTT: 97.84%\n",
            "Precision HOTT: 97.84%\n",
            "Accuracy L1-OT: 96.76%\n",
            "Recall L1-OT: 96.76%\n",
            "Precision L1-OT: 96.76%\n",
            "Accuracy KL: 94.59%\n",
            "Recall KL-OT: 94.59%\n",
            "Precision KL-OT: 94.59%\n"
          ]
        }
      ]
    },
    {
      "cell_type": "markdown",
      "source": [
        "# DATA 70"
      ],
      "metadata": {
        "id": "8wKjnnrobSBG"
      }
    },
    {
      "cell_type": "code",
      "source": [
        "print(data_70)"
      ],
      "metadata": {
        "colab": {
          "base_uri": "https://localhost:8080/"
        },
        "id": "hT7uz58mPWyS",
        "outputId": "763c89fe-5eb8-424c-83b2-9f449b4bfcf4"
      },
      "execution_count": null,
      "outputs": [
        {
          "output_type": "stream",
          "name": "stdout",
          "text": [
            "{'X': array([[1, 2, 4, ..., 0, 0, 0],\n",
            "       [0, 0, 0, ..., 0, 0, 0],\n",
            "       [0, 0, 1, ..., 0, 0, 0],\n",
            "       ...,\n",
            "       [0, 0, 0, ..., 0, 0, 0],\n",
            "       [0, 0, 0, ..., 0, 0, 0],\n",
            "       [0, 0, 0, ..., 0, 0, 0]]), 'y': array([0, 0, 0, 0, 0, 0, 0, 0, 0, 0, 0, 0, 0, 0, 0, 0, 0, 0, 0, 0, 0, 0,\n",
            "       0, 0, 0, 0, 0, 0, 0, 0, 0, 0, 0, 0, 0, 0, 0, 0, 0, 0, 0, 0, 0, 0,\n",
            "       0, 0, 0, 0, 0, 0, 0, 0, 0, 0, 0, 0, 0, 0, 0, 0, 0, 0, 0, 0, 0, 0,\n",
            "       0, 0, 0, 0, 0, 0, 0, 0, 0, 0, 0, 0, 0, 0, 0, 0, 0, 0, 0, 0, 0, 0,\n",
            "       0, 0, 0, 0, 0, 0, 0, 0, 0, 0, 0, 0, 0, 1, 1, 1, 1, 1, 1, 1, 1, 1,\n",
            "       1, 1, 1, 1, 1, 1, 1, 1, 1, 1, 1, 1, 1, 1, 1, 1, 1, 1, 1, 1, 1, 1,\n",
            "       1, 1, 1, 1, 1, 1, 1, 1, 1, 1, 1, 1, 1, 1, 1, 1, 1, 1, 1, 1, 1, 1,\n",
            "       1, 1, 1, 1, 1, 1, 1, 1, 1, 1, 1, 1, 1, 1, 1, 1, 1, 1, 1, 1, 1, 1,\n",
            "       1, 1, 1, 1, 1, 1, 1, 1, 1, 1, 1, 1, 1, 1, 1, 1, 1, 1, 1, 1, 1, 1,\n",
            "       1, 1, 1, 1, 1, 1, 1, 1, 1, 1, 1, 1, 1, 1, 1, 1, 1, 1, 1, 1, 1, 1,\n",
            "       1, 1, 1, 1, 1, 2, 2, 2, 2, 2, 2, 2, 2, 2, 2, 2, 2, 2, 2, 2, 2, 2,\n",
            "       2, 2, 2, 2, 2, 2, 2, 2, 2, 2, 2, 2, 2, 2, 2, 2, 2, 2, 2, 2, 2, 2,\n",
            "       2, 2, 2, 2, 2, 2, 2, 2, 2, 2, 2, 2, 2, 2, 2, 2, 2, 2, 2, 2, 2, 2,\n",
            "       2, 2, 2, 2, 2, 2, 2, 2, 2, 2, 2, 2, 2, 2, 2, 2, 2, 2, 2, 2, 2, 2,\n",
            "       2, 2, 2, 2, 2, 2, 2, 2, 2, 2, 2, 2, 2, 2, 2, 2, 2, 2, 2, 2, 2, 2,\n",
            "       2, 2, 2, 2, 2, 2, 2, 2, 2, 2, 2, 2, 2, 2, 2, 2, 2, 2, 2, 2, 2, 2,\n",
            "       2, 2, 2, 2, 2, 2, 2, 2, 2, 2, 2, 2, 2, 2, 2, 2, 2, 2, 2, 2, 2, 2,\n",
            "       2, 2, 2, 2, 2, 2, 2, 2, 2, 2, 2, 2, 2, 2, 2, 2, 2, 2, 2, 2, 2, 2,\n",
            "       2, 2, 2, 2, 2, 2, 2, 2, 2, 2, 2, 2, 2, 2, 2, 2, 2, 2, 2, 2, 2, 2,\n",
            "       2, 2, 2, 2, 2, 2, 2, 2, 2, 2, 2, 2, 2, 2, 2, 2, 2, 2, 2, 2, 2, 2,\n",
            "       2, 2, 2, 2, 2, 2, 2, 2, 2, 2, 2, 2, 2, 2, 2, 2, 2, 2, 2, 2, 2, 2,\n",
            "       2, 2, 2, 2, 2, 2, 2, 2, 2, 2, 2, 2, 2, 2, 2, 2, 2, 2, 2, 2, 2, 2,\n",
            "       2, 2, 2, 2, 2, 2, 3, 3, 3, 3, 3, 3, 3, 3, 3, 3, 3, 3, 3, 3, 3, 3,\n",
            "       3, 3, 3, 3, 3, 3, 3, 3, 3, 3, 3, 3, 3, 3, 3, 3, 3, 3, 3, 3, 3, 3,\n",
            "       3, 3, 3, 3, 3, 3, 3, 3, 3, 3, 3, 3, 3, 3, 3, 3, 3, 3, 3, 3, 3, 3,\n",
            "       3, 3, 3, 3, 3, 3, 3, 3, 3, 3, 3, 3, 3, 3, 3, 3, 3, 3, 3, 3, 3, 3,\n",
            "       3, 3, 3, 3, 3, 3, 3, 3, 3, 3, 3, 3, 3, 3, 3, 3, 3, 3, 3, 3, 3, 3,\n",
            "       3, 3, 3, 3, 3, 3, 3, 3, 3, 3, 3, 3, 3, 3, 3, 3, 3, 3, 3, 3, 3, 3,\n",
            "       3, 3, 3, 3, 3, 3, 3, 3, 3, 3, 3, 3, 3, 3, 3, 3, 3, 3, 3, 3, 3, 4,\n",
            "       4, 4, 4, 4, 4, 4, 4, 4, 4, 4, 4, 4, 4, 4, 4, 4, 4, 4, 4, 4, 4, 4,\n",
            "       4, 4, 4, 4, 4, 4, 4, 4, 4, 4, 4, 4, 4, 4, 4, 4, 4, 4, 4, 4, 4, 4,\n",
            "       4, 4, 4, 4, 4, 4, 4, 4, 4, 4, 4, 4, 4, 4, 4, 4, 4, 4, 4, 4, 4, 4,\n",
            "       4, 4, 4, 4, 4, 4, 4, 4, 4, 4, 4, 4, 4, 4, 4, 4, 4, 4, 4, 4, 4, 4,\n",
            "       4, 4, 4, 4, 4, 4, 4, 4, 4, 4, 4]), 'embeddings': array([[-0.27643   ,  0.320935  ,  0.23405   , ...,  0.1866295 ,\n",
            "        -0.02417   , -0.1088535 ],\n",
            "       [-0.175304  ,  0.24774767,  0.14967   , ..., -0.72072333,\n",
            "        -0.15531667, -0.21975667],\n",
            "       [ 0.10689   ,  0.566245  ,  0.1396955 , ..., -0.03442   ,\n",
            "         0.062178  , -0.587205  ],\n",
            "       ...,\n",
            "       [ 0.22219   ,  0.92183   ,  0.10766   , ..., -0.081299  ,\n",
            "         0.1556    ,  0.33486   ],\n",
            "       [ 0.45473   ,  0.18718   ,  0.37229   , ..., -0.52887   ,\n",
            "         1.1778    , -0.32292   ],\n",
            "       [ 0.30182   ,  0.35544   , -0.1622    , ...,  0.26037   ,\n",
            "        -0.011199  ,  0.052316  ]]), 'topics': array([[0., 0., 0., ..., 0., 0., 0.],\n",
            "       [0., 0., 0., ..., 0., 0., 0.],\n",
            "       [0., 0., 0., ..., 0., 0., 0.],\n",
            "       ...,\n",
            "       [0., 0., 0., ..., 0., 0., 0.],\n",
            "       [0., 0., 0., ..., 0., 0., 0.],\n",
            "       [0., 0., 0., ..., 0., 0., 0.]]), 'proportions': array([[0.00102041, 0.00102041, 0.00102041, ..., 0.01122449, 0.00102041,\n",
            "        0.0622449 ],\n",
            "       [0.00142857, 0.00142857, 0.00142857, ..., 0.00142857, 0.00142857,\n",
            "        0.18714286],\n",
            "       [0.02066667, 0.00066667, 0.00066667, ..., 0.00066667, 0.02733333,\n",
            "        0.00066667],\n",
            "       ...,\n",
            "       [0.00126582, 0.00126582, 0.00126582, ..., 0.08987342, 0.01392405,\n",
            "        0.00126582],\n",
            "       [0.00093458, 0.00093458, 0.00093458, ..., 0.00093458, 0.01962617,\n",
            "        0.02897196],\n",
            "       [0.00096154, 0.00096154, 0.00096154, ..., 0.00096154, 0.00096154,\n",
            "        0.00096154]]), 'cost_E': array([[ 0.        ,  6.60246383,  8.92130749, ...,  8.92280546,\n",
            "        11.20264757,  8.68721576],\n",
            "       [ 6.60246383,  0.        ,  7.60976123, ...,  8.27806809,\n",
            "        10.96897321,  7.47870144],\n",
            "       [ 8.92130749,  7.60976123,  0.        , ...,  9.74017468,\n",
            "        11.64515142,  9.62337975],\n",
            "       ...,\n",
            "       [ 8.92280546,  8.27806809,  9.74017468, ...,  0.        ,\n",
            "        11.26659304,  8.65675009],\n",
            "       [11.20264757, 10.96897321, 11.64515142, ..., 11.26659304,\n",
            "         0.        , 11.20142335],\n",
            "       [ 8.68721576,  7.47870144,  9.62337975, ...,  8.65675009,\n",
            "        11.20142335,  0.        ]]), 'cost_T': array([[0.        , 6.68011692, 6.47477294, ..., 6.19678536, 6.29592686,\n",
            "        6.58870439],\n",
            "       [6.68011692, 0.        , 6.14679514, ..., 5.42666547, 5.77127954,\n",
            "        6.30865949],\n",
            "       [6.47477294, 6.14679514, 0.        , ..., 5.57354814, 6.28063566,\n",
            "        6.75680953],\n",
            "       ...,\n",
            "       [6.19678536, 5.42666547, 5.57354814, ..., 0.        , 5.58624175,\n",
            "        5.70014553],\n",
            "       [6.29592686, 5.77127954, 6.28063566, ..., 5.58624175, 0.        ,\n",
            "        5.88535366],\n",
            "       [6.58870439, 6.30865949, 6.75680953, ..., 5.70014553, 5.88535366,\n",
            "        0.        ]]), 'cost_L1': array([[0.        , 0.17099752, 0.18080012, ..., 0.19529256, 0.14820951,\n",
            "        0.19049337],\n",
            "       [0.        , 0.        , 0.19300013, ..., 0.18242319, 0.14671363,\n",
            "        0.19312297],\n",
            "       [0.        , 0.        , 0.        , ..., 0.20634629, 0.18167115,\n",
            "        0.22252364],\n",
            "       ...,\n",
            "       [0.        , 0.        , 0.        , ..., 0.        , 0.18842389,\n",
            "        0.22008431],\n",
            "       [0.        , 0.        , 0.        , ..., 0.        , 0.        ,\n",
            "        0.17854911],\n",
            "       [0.        , 0.        , 0.        , ..., 0.        , 0.        ,\n",
            "        0.        ]])}\n"
          ]
        }
      ]
    },
    {
      "cell_type": "code",
      "source": [
        "# Get data back\n",
        "file_path = '/content/drive/MyDrive/projet_ot/dataset_words.json'\n",
        "\n",
        "# Load the data from the JSON file\n",
        "with open(file_path, 'r') as json_file:\n",
        "    loaded_data = json.load(json_file)\n",
        "\n",
        "# Convert lists back to NumPy arrays in the loaded data\n",
        "data_70 = {key: np.array(value) if isinstance(value, list) else value for key, value in loaded_data.items()}\n"
      ],
      "metadata": {
        "id": "yFNcV7_ANlO2"
      },
      "execution_count": null,
      "outputs": []
    },
    {
      "cell_type": "code",
      "source": [
        "print(data_70[\"topics\"].shape)"
      ],
      "metadata": {
        "colab": {
          "base_uri": "https://localhost:8080/"
        },
        "id": "LUWVblk6VIEC",
        "outputId": "8dc8ca49-8650-41af-be76-caff0adc4d4b"
      },
      "execution_count": null,
      "outputs": [
        {
          "output_type": "stream",
          "name": "stdout",
          "text": [
            "(70, 3657)\n"
          ]
        }
      ]
    },
    {
      "cell_type": "code",
      "source": [
        "print(data_70[\"cost_L1\"])"
      ],
      "metadata": {
        "colab": {
          "base_uri": "https://localhost:8080/"
        },
        "id": "uWfhuK7YVK24",
        "outputId": "5f9b2cca-9670-42f8-e84a-7a60ecb681a0"
      },
      "execution_count": null,
      "outputs": [
        {
          "output_type": "stream",
          "name": "stdout",
          "text": [
            "[[0.         1.46938776 1.22541497 ... 1.28397522 0.59619431 0.87932404]\n",
            " [1.46938776 0.         1.8807619  ... 1.89200667 1.72313883 1.80249515]\n",
            " [1.22541497 1.8807619  0.         ... 0.84250584 0.93686385 1.06772851]\n",
            " ...\n",
            " [1.28397522 1.89200667 0.84250584 ... 0.         1.17957801 1.31828794]\n",
            " [0.59619431 1.72313883 0.93686385 ... 1.17957801 0.         0.84951628]\n",
            " [0.87932404 1.80249515 1.06772851 ... 1.31828794 0.84951628 0.        ]]\n"
          ]
        }
      ]
    },
    {
      "cell_type": "code",
      "source": [
        "# Dataset 70 topics and sparse déjà enregitré avec ça\n",
        "cost_L1_topics = np.zeros((data_70[\"topics\"].shape[0], data_70[\"topics\"].shape[0]))\n",
        "for i in range(data_70['topics'].shape[0]):\n",
        "        for j in range(i + 1, data_70['topics'].shape[0]):\n",
        "            cost_L1_topics[i, j] = np.linalg.norm(data_70[\"proportions\"][i] - data_70[\"proportions\"][j], 1)\n",
        "cost_L1_topics = cost_L1_topics + cost_L1_topics.T\n",
        "data_70['cost_L1'] = cost_L1_topics"
      ],
      "metadata": {
        "id": "jeqF7sBDjsSP"
      },
      "execution_count": null,
      "outputs": []
    },
    {
      "cell_type": "code",
      "source": [
        "print(bow_train)"
      ],
      "metadata": {
        "colab": {
          "base_uri": "https://localhost:8080/"
        },
        "id": "uanZwJtCV0Y8",
        "outputId": "6a720c16-1725-4322-82e9-7ccfc3493206"
      },
      "execution_count": null,
      "outputs": [
        {
          "output_type": "stream",
          "name": "stdout",
          "text": [
            "[[0 0 0 ... 0 0 0]\n",
            " [0 0 0 ... 0 0 0]\n",
            " [0 0 0 ... 0 0 0]\n",
            " ...\n",
            " [0 0 0 ... 0 0 0]\n",
            " [0 0 0 ... 0 0 0]\n",
            " [0 0 0 ... 0 0 0]]\n"
          ]
        }
      ]
    },
    {
      "cell_type": "code",
      "source": [
        "bow_data, y = data_70['X'], data_70['y']\n",
        "topic_proportions = data_70['proportions']\n",
        "\n",
        "seed = 0\n",
        "bow_train, bow_test, topic_train, topic_test, y_train, y_test = train_test_split(bow_data, topic_proportions, y, random_state=seed)\n",
        "\n",
        "methods = {'HOTT': hoftt}\n",
        "\n",
        "for method in methods.keys():\n",
        "\n",
        "    t_s = time.time()\n",
        "    # Compute HOTT distance\n",
        "    X_train, X_test = topic_train, topic_test\n",
        "    C = data_70['cost_T']\n",
        "\n",
        "    # Compute test error\n",
        "    test_error, prediction_HOTT = knn(X_train, X_test, y_train, y_test, methods[method], C, n_neighbors=7)\n",
        "    print(' HOTT test error is %f; took %.2f seconds' % (test_error, time.time()-t_s))\n",
        "    t_s = time.time()\n",
        "\n",
        "    #Compute L1 then Wasserstein distance\n",
        "    X_train, X_test = topic_train, topic_test\n",
        "    C = data_70['cost_L1']\n",
        "\n",
        "    # Compute test error\n",
        "    test_error, prediction_L1_W1 = knn(X_train, X_test, y_train, y_test, methods[method], C, n_neighbors=7)\n",
        "    print(' L1 test error is %f; took %.2f seconds' % (test_error, time.time()-t_s))\n",
        "    t_s = time.time()\n",
        "\n",
        "# Done!"
      ],
      "metadata": {
        "colab": {
          "base_uri": "https://localhost:8080/"
        },
        "id": "qV2NOpxsOlHf",
        "outputId": "c85c9128-a453-4f2b-d441-9a894f8f75d4"
      },
      "execution_count": null,
      "outputs": [
        {
          "output_type": "stream",
          "name": "stdout",
          "text": [
            " HOTT test error is 0.021622; took 130.22 seconds\n",
            " L1 test error is 0.064865; took 122.51 seconds\n"
          ]
        }
      ]
    },
    {
      "cell_type": "code",
      "source": [
        "# Apply t-SNE for dimensionality reduction to 2D\n",
        "predicted_HOTT = np.array(prediction_HOTT)\n",
        "predicted_L1_W1 = np.array(prediction_L1_W1)\n",
        "tsne = TSNE(n_components=2, random_state=42)\n",
        "X_test_tsne = tsne.fit_transform(X_test)\n",
        "\n",
        "# Create a scatter plot\n",
        "plt.figure()\n",
        "\n",
        "# Get unique labels from y_test\n",
        "unique_labels = np.unique(y_test)\n",
        "\n",
        "# Plot the points with different colors for each class\n",
        "for label in unique_labels:\n",
        "    indices = np.where(y_test == label)\n",
        "    plt.scatter(X_test_tsne[indices, 0], X_test_tsne[indices, 1], label=f'Class {label}')\n",
        "\n",
        "#plt.title('t-SNE Visualization of X_test')\n",
        "#plt.xlabel('t-SNE Dimension 1')\n",
        "#plt.ylabel('t-SNE Dimension 2')\n",
        "\n",
        "# Add legend\n",
        "plt.axis(\"off\")\n",
        "plt.legend()\n",
        "plt.savefig(\"true_values_70.png\")\n",
        "plt.show()"
      ],
      "metadata": {
        "colab": {
          "base_uri": "https://localhost:8080/",
          "height": 406
        },
        "id": "3r4TA7ITl-u8",
        "outputId": "bbd2498b-3438-437a-8193-f58a0d368e3a"
      },
      "execution_count": null,
      "outputs": [
        {
          "output_type": "display_data",
          "data": {
            "text/plain": [
              "<Figure size 640x480 with 1 Axes>"
            ],
            "image/png": "[encoded data removed]"
          },
          "metadata": {}
        }
      ]
    },
    {
      "cell_type": "code",
      "source": [
        "# Create a scatter plot\n",
        "plt.figure()\n",
        "\n",
        "# Get unique labels from y_test\n",
        "unique_labels = np.unique(predicted_HOTT)\n",
        "\n",
        "# Plot the points with different colors for each class\n",
        "for label in unique_labels:\n",
        "    indices = np.where(predicted_HOTT == label)\n",
        "    plt.scatter(X_test_tsne[indices, 0], X_test_tsne[indices, 1], label=f'Class {label}')\n",
        "\n",
        "#plt.title('t-SNE Visualization of X_test')\n",
        "#plt.xlabel('t-SNE Dimension 1')\n",
        "#plt.ylabel('t-SNE Dimension 2')\n",
        "\n",
        "# Add legend\n",
        "plt.axis(\"off\")\n",
        "plt.legend()\n",
        "plt.savefig(\"HOTT_values_70.png\")\n",
        "plt.show()"
      ],
      "metadata": {
        "colab": {
          "base_uri": "https://localhost:8080/",
          "height": 406
        },
        "id": "hUocroE_mbCW",
        "outputId": "1ebe5662-7d7c-474c-c587-6c2a000100c5"
      },
      "execution_count": null,
      "outputs": [
        {
          "output_type": "display_data",
          "data": {
            "text/plain": [
              "<Figure size 640x480 with 1 Axes>"
            ],
            "image/png": "[encoded data removed]"
          },
          "metadata": {}
        }
      ]
    },
    {
      "cell_type": "code",
      "source": [
        "# Create a scatter plot\n",
        "plt.figure()\n",
        "\n",
        "# Get unique labels from y_test\n",
        "unique_labels = np.unique(predicted_L1_W1)\n",
        "\n",
        "# Plot the points with different colors for each class\n",
        "for label in unique_labels:\n",
        "    indices = np.where(predicted_L1_W1 == label)\n",
        "    plt.scatter(X_test_tsne[indices, 0], X_test_tsne[indices, 1], label=f'Class {label}')\n",
        "\n",
        "#plt.title('t-SNE Visualization of X_test')\n",
        "#plt.xlabel('t-SNE Dimension 1')\n",
        "#plt.ylabel('t-SNE Dimension 2')\n",
        "\n",
        "# Add legend\n",
        "plt.axis(\"off\")\n",
        "plt.legend()\n",
        "plt.savefig(\"L1_values_70.png\")\n",
        "plt.show()"
      ],
      "metadata": {
        "colab": {
          "base_uri": "https://localhost:8080/",
          "height": 406
        },
        "id": "GH101sDgmN7Y",
        "outputId": "ab24feaf-7402-41ed-a2fd-a3345311a843"
      },
      "execution_count": null,
      "outputs": [
        {
          "output_type": "display_data",
          "data": {
            "text/plain": [
              "<Figure size 640x480 with 1 Axes>"
            ],
            "image/png": "[encoded data removed]"
          },
          "metadata": {}
        }
      ]
    },
    {
      "cell_type": "code",
      "source": [
        "print(methods.keys())"
      ],
      "metadata": {
        "colab": {
          "base_uri": "https://localhost:8080/"
        },
        "id": "vh3oDLTPnPkw",
        "outputId": "2eab8a27-8c21-437c-fce3-a9bd71ef3354"
      },
      "execution_count": null,
      "outputs": [
        {
          "output_type": "stream",
          "name": "stdout",
          "text": [
            "dict_keys(['HOTT', 'L1_W1'])\n"
          ]
        }
      ]
    },
    {
      "cell_type": "code",
      "source": [
        "# KL + OT\n",
        "def kl(p, q):\n",
        "\n",
        "    return np.sum(np.where((p != 0), p * np.log(p / q), 0))\n",
        "\n",
        "cost_KL_topics = np.zeros((data_70[\"topics\"].shape[0], data_70[\"topics\"].shape[0]))\n",
        "for i in range(data_70['topics'].shape[0]):\n",
        "        for j in range(i + 1, data_70['topics'].shape[0]):\n",
        "            cost_KL_topics[i, j] = kl(data_70[\"topics\"][i],data_70[\"topics\"][j])\n",
        "cost_KL_topics = cost_KL_topics + cost_KL_topics.T\n",
        "data_70['cost_KL'] = cost_KL_topics\n",
        "C = data_70['cost_KL']\n",
        "\n",
        "    # Compute test error\n",
        "for method in methods.keys():\n",
        "  test_error, prediction_KL_W1 = knn(X_train, X_test, y_train, y_test, methods['HOTT'], C, n_neighbors=3)\n",
        "  print(method + ' test error is %f; took %.2f seconds' % (test_error, time.time()-t_s))"
      ],
      "metadata": {
        "colab": {
          "base_uri": "https://localhost:8080/"
        },
        "id": "yaOguvfJlkxi",
        "outputId": "235c1ae0-fab2-4784-ad63-fdae6b4c43d7"
      },
      "execution_count": null,
      "outputs": [
        {
          "output_type": "stream",
          "name": "stderr",
          "text": [
            "<ipython-input-57-df7e942f0044>:4: RuntimeWarning: divide by zero encountered in divide\n",
            "  return np.sum(np.where((p != 0), p * np.log(p / q), 0))\n",
            "<ipython-input-57-df7e942f0044>:4: RuntimeWarning: invalid value encountered in divide\n",
            "  return np.sum(np.where((p != 0), p * np.log(p / q), 0))\n",
            "<ipython-input-57-df7e942f0044>:4: RuntimeWarning: divide by zero encountered in log\n",
            "  return np.sum(np.where((p != 0), p * np.log(p / q), 0))\n",
            "<ipython-input-57-df7e942f0044>:4: RuntimeWarning: invalid value encountered in multiply\n",
            "  return np.sum(np.where((p != 0), p * np.log(p / q), 0))\n",
            "/usr/local/lib/python3.10/dist-packages/ot/lp/__init__.py:571: UserWarning: Problem infeasible. Check that a and b are in the simplex\n",
            "  check_result(result_code)\n"
          ]
        },
        {
          "output_type": "stream",
          "name": "stdout",
          "text": [
            "HOTT test error is 0.632432; took 1445.92 seconds\n"
          ]
        }
      ]
    },
    {
      "cell_type": "code",
      "source": [
        "from matplotlib.lines import Line2D\n",
        "predicted_KL_W1 = np.array(prediction_KL_W1)\n",
        "\n",
        "plt.figure()\n",
        "\n",
        "# Get unique labels from y_test\n",
        "unique_labels = np.unique(predicted_KL_W1)\n",
        "\n",
        "# Plot the points with different colors for each class\n",
        "for label in unique_labels:\n",
        "    indices = np.where(predicted_KL_W1 == label)\n",
        "    plt.scatter(X_test_tsne[indices, 0], X_test_tsne[indices, 1], label=f'Class {label}')\n",
        "\n",
        "#plt.title('t-SNE Visualization of X_test')\n",
        "#plt.xlabel('t-SNE Dimension 1')\n",
        "#plt.ylabel('t-SNE Dimension 2')\n",
        "\n",
        "# Add legend\n",
        "plt.axis(\"off\")\n",
        "plt.legend()\n",
        "plt.savefig(\"KL_values_70.png\")\n",
        "plt.show()"
      ],
      "metadata": {
        "colab": {
          "base_uri": "https://localhost:8080/",
          "height": 406
        },
        "id": "ciBEyXaLl3Qi",
        "outputId": "7225eb9c-8b32-4537-c2cb-81941f105e28"
      },
      "execution_count": null,
      "outputs": [
        {
          "output_type": "display_data",
          "data": {
            "text/plain": [
              "<Figure size 640x480 with 1 Axes>"
            ],
            "image/png": "[encoded data removed]"
          },
          "metadata": {}
        }
      ]
    },
    {
      "cell_type": "code",
      "source": [
        "from sklearn.metrics import accuracy_score,precision_score, recall_score\n",
        "\n",
        "# Assuming predicted_HOTT is a 1D array of predicted labels\n",
        "accuracy = accuracy_score(y_test, predicted_HOTT)\n",
        "precision_micro = precision_score(y_test, predicted_HOTT, average='micro')\n",
        "recall_micro = recall_score(y_test, predicted_HOTT, average='micro')\n",
        "print(f'Accuracy HOTT: {accuracy * 100:.2f}%')\n",
        "print(f'Recall HOTT: {recall_micro * 100:.2f}%')\n",
        "print(f'Precision HOTT: {precision_micro * 100:.2f}%')\n",
        "accuracy = accuracy_score(y_test, predicted_L1_W1)\n",
        "precision_micro = precision_score(y_test, predicted_L1_W1, average='micro')\n",
        "recall_micro = recall_score(y_test, predicted_L1_W1, average='micro')\n",
        "print(f'Accuracy L1-OT: {accuracy * 100:.2f}%')\n",
        "print(f'Recall L1-OT: {recall_micro * 100:.2f}%')\n",
        "print(f'Precision L1-OT: {precision_micro * 100:.2f}%')\n",
        "print(accuracy_score(y_test, predicted_KL_W1))"
      ],
      "metadata": {
        "colab": {
          "base_uri": "https://localhost:8080/"
        },
        "id": "Ma3pGntgnq0N",
        "outputId": "7e2e84e5-1567-4946-9934-9d3472bb3128"
      },
      "execution_count": null,
      "outputs": [
        {
          "output_type": "stream",
          "name": "stdout",
          "text": [
            "Accuracy HOTT: 97.84%\n",
            "Recall HOTT: 97.84%\n",
            "Precision HOTT: 97.84%\n",
            "Accuracy L1-OT: 96.76%\n",
            "Recall L1-OT: 96.76%\n",
            "Precision L1-OT: 96.76%\n",
            "0.3675675675675676\n"
          ]
        }
      ]
    },
    {
      "cell_type": "code",
      "source": [
        "def mmd(p, q, kernel='rbf'):\n",
        "    # Ensure p and q are 2D arrays\n",
        "    p, q = np.atleast_2d(p), np.atleast_2d(q)\n",
        "\n",
        "    # Calculate pairwise kernel matrices\n",
        "    K_pp = pairwise_kernels(p, p, metric=kernel)\n",
        "    K_qq = pairwise_kernels(q, q, metric=kernel)\n",
        "    K_pq = pairwise_kernels(p, q, metric=kernel)\n",
        "\n",
        "    # Compute mean embeddings\n",
        "    mu_p = np.mean(K_pp, axis=0)\n",
        "    mu_q = np.mean(K_qq, axis=0)\n",
        "\n",
        "    # Calculate MMD\n",
        "    mmd = np.linalg.norm(mu_p - mu_q)\n",
        "\n",
        "    return mmd\n"
      ],
      "metadata": {
        "id": "kQiPyHeqShJF"
      },
      "execution_count": null,
      "outputs": []
    },
    {
      "cell_type": "code",
      "source": [
        "# MMD + OT\n",
        "def kl(p, q):\n",
        "\n",
        "    return np.sum(np.where((p != 0), p * np.log(p / q), 0))\n",
        "\n",
        "cost_MMD_topics = np.zeros((data_70[\"topics\"].shape[0], data_70[\"topics\"].shape[0]))\n",
        "for i in range(data_70['topics'].shape[0]):\n",
        "        for j in range(i + 1, data_70['topics'].shape[0]):\n",
        "            cost_MMD_topics[i, j] = mmd(data_70[\"topics\"][i],data_70[\"topics\"][j])\n",
        "cost_MMD_topics = cost_MMD_topics + cost_MMD_topics.T\n",
        "data_70['cost_MMD'] = cost_MMD_topics\n",
        "C = data_70['cost_MMD']\n",
        "\n",
        "    # Compute test error\n",
        "for method in methods.keys():\n",
        "  test_error, prediction_KL_W1 = knn(X_train, X_test, y_train, y_test, methods['HOTT'], C, n_neighbors=3)\n",
        "  print(method + ' test error is %f; took %.2f seconds' % (test_error, time.time()-t_s))"
      ],
      "metadata": {
        "colab": {
          "base_uri": "https://localhost:8080/"
        },
        "id": "5MY-JPtkTHPV",
        "outputId": "2cc3adc7-90eb-431b-e536-1c78c901b0b4"
      },
      "execution_count": null,
      "outputs": [
        {
          "output_type": "stream",
          "name": "stdout",
          "text": [
            "HOTT test error is 0.632432; took 388.27 seconds\n"
          ]
        }
      ]
    },
    {
      "cell_type": "code",
      "source": [
        "# Create a scatter plot\n",
        "plt.figure()\n",
        "\n",
        "# Get unique labels from y_test\n",
        "unique_labels = np.unique(predicted_L1_W1)\n",
        "\n",
        "# Plot the points with different colors for each class\n",
        "for label in unique_labels:\n",
        "    indices = np.where(predicted_L1_W1 == label)\n",
        "    plt.scatter(X_test_tsne[indices, 0], X_test_tsne[indices, 1], label=f'Class {label}')\n",
        "\n",
        "#plt.title('t-SNE Visualization of X_test')\n",
        "#plt.xlabel('t-SNE Dimension 1')\n",
        "#plt.ylabel('t-SNE Dimension 2')\n",
        "\n",
        "# Add legend\n",
        "plt.axis(\"off\")\n",
        "plt.legend()\n",
        "plt.savefig(\"MMD_values_70.png\")\n",
        "plt.show()"
      ],
      "metadata": {
        "colab": {
          "base_uri": "https://localhost:8080/",
          "height": 406
        },
        "id": "4tKVMkpxYLMI",
        "outputId": "510e126f-7779-47ed-9d78-f4ff1da12d5a"
      },
      "execution_count": null,
      "outputs": [
        {
          "output_type": "display_data",
          "data": {
            "text/plain": [
              "<Figure size 640x480 with 1 Axes>"
            ],
            "image/png": "[encoded data removed]"
          },
          "metadata": {}
        }
      ]
    },
    {
      "cell_type": "code",
      "source": [
        "data_70[\"topics\"][0].sum()"
      ],
      "metadata": {
        "colab": {
          "base_uri": "https://localhost:8080/"
        },
        "id": "ZEBr2jhbTpSl",
        "outputId": "0b0d54c0-89e7-4706-cbaf-97623b0b9a9b"
      },
      "execution_count": null,
      "outputs": [
        {
          "output_type": "execute_result",
          "data": {
            "text/plain": [
              "0.45757685861297015"
            ]
          },
          "metadata": {},
          "execution_count": 49
        }
      ]
    }
  ]
}